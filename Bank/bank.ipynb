{
 "cells": [
  {
   "cell_type": "markdown",
   "id": "386f2ae7",
   "metadata": {
    "deletable": false,
    "editable": false,
    "id": "386f2ae7"
   },
   "source": [
    "# Исследование надежности заемщиков\n"
   ]
  },
  {
   "cell_type": "markdown",
   "id": "ffe86f65",
   "metadata": {
    "deletable": false,
    "editable": false,
    "id": "ffe86f65"
   },
   "source": [
    "Во второй части проекта вы выполните шаги 3 и 4. Их вручную проверит ревьюер.\n",
    "Чтобы вам не пришлось писать код заново для шагов 1 и 2, мы добавили авторские решения в ячейки с кодом. \n",
    "\n"
   ]
  },
  {
   "cell_type": "markdown",
   "id": "26613308",
   "metadata": {
    "deletable": false,
    "editable": false,
    "id": "26613308"
   },
   "source": [
    "## Откройте таблицу и изучите общую информацию о данных"
   ]
  },
  {
   "cell_type": "markdown",
   "id": "3c9f838e",
   "metadata": {
    "deletable": false,
    "editable": false,
    "id": "3c9f838e"
   },
   "source": [
    "**Задание 1. Импортируйте библиотеку pandas. Считайте данные из csv-файла в датафрейм и сохраните в переменную `data`. Путь к файлу:**\n",
    "\n",
    "`/datasets/data.csv`"
   ]
  },
  {
   "cell_type": "code",
   "execution_count": 1,
   "id": "77a68a90",
   "metadata": {
    "deletable": false,
    "id": "77a68a90"
   },
   "outputs": [],
   "source": [
    "import pandas as pd\n",
    "import seaborn as sns\n",
    "\n",
    "try:\n",
    "    data = pd.read_csv('/datasets/data.csv')\n",
    "except:\n",
    "    data = pd.read_csv('https://code.s3.yandex.net/datasets/data.csv')"
   ]
  },
  {
   "cell_type": "markdown",
   "id": "45365635",
   "metadata": {
    "deletable": false,
    "editable": false,
    "id": "45365635"
   },
   "source": [
    "**Задание 2. Выведите первые 20 строчек датафрейма `data` на экран.**"
   ]
  },
  {
   "cell_type": "code",
   "execution_count": 2,
   "id": "b0451a9a",
   "metadata": {
    "deletable": false,
    "id": "b0451a9a",
    "outputId": "1a8f3ef2-d323-4ec2-ddf7-89670b5944c4"
   },
   "outputs": [
    {
     "data": {
      "text/html": [
       "<div>\n",
       "<style scoped>\n",
       "    .dataframe tbody tr th:only-of-type {\n",
       "        vertical-align: middle;\n",
       "    }\n",
       "\n",
       "    .dataframe tbody tr th {\n",
       "        vertical-align: top;\n",
       "    }\n",
       "\n",
       "    .dataframe thead th {\n",
       "        text-align: right;\n",
       "    }\n",
       "</style>\n",
       "<table border=\"1\" class=\"dataframe\">\n",
       "  <thead>\n",
       "    <tr style=\"text-align: right;\">\n",
       "      <th></th>\n",
       "      <th>children</th>\n",
       "      <th>days_employed</th>\n",
       "      <th>dob_years</th>\n",
       "      <th>education</th>\n",
       "      <th>education_id</th>\n",
       "      <th>family_status</th>\n",
       "      <th>family_status_id</th>\n",
       "      <th>gender</th>\n",
       "      <th>income_type</th>\n",
       "      <th>debt</th>\n",
       "      <th>total_income</th>\n",
       "      <th>purpose</th>\n",
       "    </tr>\n",
       "  </thead>\n",
       "  <tbody>\n",
       "    <tr>\n",
       "      <th>0</th>\n",
       "      <td>1</td>\n",
       "      <td>-8437.673028</td>\n",
       "      <td>42</td>\n",
       "      <td>высшее</td>\n",
       "      <td>0</td>\n",
       "      <td>женат / замужем</td>\n",
       "      <td>0</td>\n",
       "      <td>F</td>\n",
       "      <td>сотрудник</td>\n",
       "      <td>0</td>\n",
       "      <td>253875.639453</td>\n",
       "      <td>покупка жилья</td>\n",
       "    </tr>\n",
       "    <tr>\n",
       "      <th>1</th>\n",
       "      <td>1</td>\n",
       "      <td>-4024.803754</td>\n",
       "      <td>36</td>\n",
       "      <td>среднее</td>\n",
       "      <td>1</td>\n",
       "      <td>женат / замужем</td>\n",
       "      <td>0</td>\n",
       "      <td>F</td>\n",
       "      <td>сотрудник</td>\n",
       "      <td>0</td>\n",
       "      <td>112080.014102</td>\n",
       "      <td>приобретение автомобиля</td>\n",
       "    </tr>\n",
       "    <tr>\n",
       "      <th>2</th>\n",
       "      <td>0</td>\n",
       "      <td>-5623.422610</td>\n",
       "      <td>33</td>\n",
       "      <td>Среднее</td>\n",
       "      <td>1</td>\n",
       "      <td>женат / замужем</td>\n",
       "      <td>0</td>\n",
       "      <td>M</td>\n",
       "      <td>сотрудник</td>\n",
       "      <td>0</td>\n",
       "      <td>145885.952297</td>\n",
       "      <td>покупка жилья</td>\n",
       "    </tr>\n",
       "    <tr>\n",
       "      <th>3</th>\n",
       "      <td>3</td>\n",
       "      <td>-4124.747207</td>\n",
       "      <td>32</td>\n",
       "      <td>среднее</td>\n",
       "      <td>1</td>\n",
       "      <td>женат / замужем</td>\n",
       "      <td>0</td>\n",
       "      <td>M</td>\n",
       "      <td>сотрудник</td>\n",
       "      <td>0</td>\n",
       "      <td>267628.550329</td>\n",
       "      <td>дополнительное образование</td>\n",
       "    </tr>\n",
       "    <tr>\n",
       "      <th>4</th>\n",
       "      <td>0</td>\n",
       "      <td>340266.072047</td>\n",
       "      <td>53</td>\n",
       "      <td>среднее</td>\n",
       "      <td>1</td>\n",
       "      <td>гражданский брак</td>\n",
       "      <td>1</td>\n",
       "      <td>F</td>\n",
       "      <td>пенсионер</td>\n",
       "      <td>0</td>\n",
       "      <td>158616.077870</td>\n",
       "      <td>сыграть свадьбу</td>\n",
       "    </tr>\n",
       "    <tr>\n",
       "      <th>5</th>\n",
       "      <td>0</td>\n",
       "      <td>-926.185831</td>\n",
       "      <td>27</td>\n",
       "      <td>высшее</td>\n",
       "      <td>0</td>\n",
       "      <td>гражданский брак</td>\n",
       "      <td>1</td>\n",
       "      <td>M</td>\n",
       "      <td>компаньон</td>\n",
       "      <td>0</td>\n",
       "      <td>255763.565419</td>\n",
       "      <td>покупка жилья</td>\n",
       "    </tr>\n",
       "    <tr>\n",
       "      <th>6</th>\n",
       "      <td>0</td>\n",
       "      <td>-2879.202052</td>\n",
       "      <td>43</td>\n",
       "      <td>высшее</td>\n",
       "      <td>0</td>\n",
       "      <td>женат / замужем</td>\n",
       "      <td>0</td>\n",
       "      <td>F</td>\n",
       "      <td>компаньон</td>\n",
       "      <td>0</td>\n",
       "      <td>240525.971920</td>\n",
       "      <td>операции с жильем</td>\n",
       "    </tr>\n",
       "    <tr>\n",
       "      <th>7</th>\n",
       "      <td>0</td>\n",
       "      <td>-152.779569</td>\n",
       "      <td>50</td>\n",
       "      <td>СРЕДНЕЕ</td>\n",
       "      <td>1</td>\n",
       "      <td>женат / замужем</td>\n",
       "      <td>0</td>\n",
       "      <td>M</td>\n",
       "      <td>сотрудник</td>\n",
       "      <td>0</td>\n",
       "      <td>135823.934197</td>\n",
       "      <td>образование</td>\n",
       "    </tr>\n",
       "    <tr>\n",
       "      <th>8</th>\n",
       "      <td>2</td>\n",
       "      <td>-6929.865299</td>\n",
       "      <td>35</td>\n",
       "      <td>ВЫСШЕЕ</td>\n",
       "      <td>0</td>\n",
       "      <td>гражданский брак</td>\n",
       "      <td>1</td>\n",
       "      <td>F</td>\n",
       "      <td>сотрудник</td>\n",
       "      <td>0</td>\n",
       "      <td>95856.832424</td>\n",
       "      <td>на проведение свадьбы</td>\n",
       "    </tr>\n",
       "    <tr>\n",
       "      <th>9</th>\n",
       "      <td>0</td>\n",
       "      <td>-2188.756445</td>\n",
       "      <td>41</td>\n",
       "      <td>среднее</td>\n",
       "      <td>1</td>\n",
       "      <td>женат / замужем</td>\n",
       "      <td>0</td>\n",
       "      <td>M</td>\n",
       "      <td>сотрудник</td>\n",
       "      <td>0</td>\n",
       "      <td>144425.938277</td>\n",
       "      <td>покупка жилья для семьи</td>\n",
       "    </tr>\n",
       "    <tr>\n",
       "      <th>10</th>\n",
       "      <td>2</td>\n",
       "      <td>-4171.483647</td>\n",
       "      <td>36</td>\n",
       "      <td>высшее</td>\n",
       "      <td>0</td>\n",
       "      <td>женат / замужем</td>\n",
       "      <td>0</td>\n",
       "      <td>M</td>\n",
       "      <td>компаньон</td>\n",
       "      <td>0</td>\n",
       "      <td>113943.491460</td>\n",
       "      <td>покупка недвижимости</td>\n",
       "    </tr>\n",
       "    <tr>\n",
       "      <th>11</th>\n",
       "      <td>0</td>\n",
       "      <td>-792.701887</td>\n",
       "      <td>40</td>\n",
       "      <td>среднее</td>\n",
       "      <td>1</td>\n",
       "      <td>женат / замужем</td>\n",
       "      <td>0</td>\n",
       "      <td>F</td>\n",
       "      <td>сотрудник</td>\n",
       "      <td>0</td>\n",
       "      <td>77069.234271</td>\n",
       "      <td>покупка коммерческой недвижимости</td>\n",
       "    </tr>\n",
       "    <tr>\n",
       "      <th>12</th>\n",
       "      <td>0</td>\n",
       "      <td>NaN</td>\n",
       "      <td>65</td>\n",
       "      <td>среднее</td>\n",
       "      <td>1</td>\n",
       "      <td>гражданский брак</td>\n",
       "      <td>1</td>\n",
       "      <td>M</td>\n",
       "      <td>пенсионер</td>\n",
       "      <td>0</td>\n",
       "      <td>NaN</td>\n",
       "      <td>сыграть свадьбу</td>\n",
       "    </tr>\n",
       "    <tr>\n",
       "      <th>13</th>\n",
       "      <td>0</td>\n",
       "      <td>-1846.641941</td>\n",
       "      <td>54</td>\n",
       "      <td>неоконченное высшее</td>\n",
       "      <td>2</td>\n",
       "      <td>женат / замужем</td>\n",
       "      <td>0</td>\n",
       "      <td>F</td>\n",
       "      <td>сотрудник</td>\n",
       "      <td>0</td>\n",
       "      <td>130458.228857</td>\n",
       "      <td>приобретение автомобиля</td>\n",
       "    </tr>\n",
       "    <tr>\n",
       "      <th>14</th>\n",
       "      <td>0</td>\n",
       "      <td>-1844.956182</td>\n",
       "      <td>56</td>\n",
       "      <td>высшее</td>\n",
       "      <td>0</td>\n",
       "      <td>гражданский брак</td>\n",
       "      <td>1</td>\n",
       "      <td>F</td>\n",
       "      <td>компаньон</td>\n",
       "      <td>1</td>\n",
       "      <td>165127.911772</td>\n",
       "      <td>покупка жилой недвижимости</td>\n",
       "    </tr>\n",
       "    <tr>\n",
       "      <th>15</th>\n",
       "      <td>1</td>\n",
       "      <td>-972.364419</td>\n",
       "      <td>26</td>\n",
       "      <td>среднее</td>\n",
       "      <td>1</td>\n",
       "      <td>женат / замужем</td>\n",
       "      <td>0</td>\n",
       "      <td>F</td>\n",
       "      <td>сотрудник</td>\n",
       "      <td>0</td>\n",
       "      <td>116820.904450</td>\n",
       "      <td>строительство собственной недвижимости</td>\n",
       "    </tr>\n",
       "    <tr>\n",
       "      <th>16</th>\n",
       "      <td>0</td>\n",
       "      <td>-1719.934226</td>\n",
       "      <td>35</td>\n",
       "      <td>среднее</td>\n",
       "      <td>1</td>\n",
       "      <td>женат / замужем</td>\n",
       "      <td>0</td>\n",
       "      <td>F</td>\n",
       "      <td>сотрудник</td>\n",
       "      <td>0</td>\n",
       "      <td>289202.704229</td>\n",
       "      <td>недвижимость</td>\n",
       "    </tr>\n",
       "    <tr>\n",
       "      <th>17</th>\n",
       "      <td>0</td>\n",
       "      <td>-2369.999720</td>\n",
       "      <td>33</td>\n",
       "      <td>высшее</td>\n",
       "      <td>0</td>\n",
       "      <td>гражданский брак</td>\n",
       "      <td>1</td>\n",
       "      <td>M</td>\n",
       "      <td>сотрудник</td>\n",
       "      <td>0</td>\n",
       "      <td>90410.586745</td>\n",
       "      <td>строительство недвижимости</td>\n",
       "    </tr>\n",
       "    <tr>\n",
       "      <th>18</th>\n",
       "      <td>0</td>\n",
       "      <td>400281.136913</td>\n",
       "      <td>53</td>\n",
       "      <td>среднее</td>\n",
       "      <td>1</td>\n",
       "      <td>вдовец / вдова</td>\n",
       "      <td>2</td>\n",
       "      <td>F</td>\n",
       "      <td>пенсионер</td>\n",
       "      <td>0</td>\n",
       "      <td>56823.777243</td>\n",
       "      <td>на покупку подержанного автомобиля</td>\n",
       "    </tr>\n",
       "    <tr>\n",
       "      <th>19</th>\n",
       "      <td>0</td>\n",
       "      <td>-10038.818549</td>\n",
       "      <td>48</td>\n",
       "      <td>СРЕДНЕЕ</td>\n",
       "      <td>1</td>\n",
       "      <td>в разводе</td>\n",
       "      <td>3</td>\n",
       "      <td>F</td>\n",
       "      <td>сотрудник</td>\n",
       "      <td>0</td>\n",
       "      <td>242831.107982</td>\n",
       "      <td>на покупку своего автомобиля</td>\n",
       "    </tr>\n",
       "  </tbody>\n",
       "</table>\n",
       "</div>"
      ],
      "text/plain": [
       "    children  days_employed  dob_years            education  education_id  \\\n",
       "0          1   -8437.673028         42               высшее             0   \n",
       "1          1   -4024.803754         36              среднее             1   \n",
       "2          0   -5623.422610         33              Среднее             1   \n",
       "3          3   -4124.747207         32              среднее             1   \n",
       "4          0  340266.072047         53              среднее             1   \n",
       "5          0    -926.185831         27               высшее             0   \n",
       "6          0   -2879.202052         43               высшее             0   \n",
       "7          0    -152.779569         50              СРЕДНЕЕ             1   \n",
       "8          2   -6929.865299         35               ВЫСШЕЕ             0   \n",
       "9          0   -2188.756445         41              среднее             1   \n",
       "10         2   -4171.483647         36               высшее             0   \n",
       "11         0    -792.701887         40              среднее             1   \n",
       "12         0            NaN         65              среднее             1   \n",
       "13         0   -1846.641941         54  неоконченное высшее             2   \n",
       "14         0   -1844.956182         56               высшее             0   \n",
       "15         1    -972.364419         26              среднее             1   \n",
       "16         0   -1719.934226         35              среднее             1   \n",
       "17         0   -2369.999720         33               высшее             0   \n",
       "18         0  400281.136913         53              среднее             1   \n",
       "19         0  -10038.818549         48              СРЕДНЕЕ             1   \n",
       "\n",
       "       family_status  family_status_id gender income_type  debt  \\\n",
       "0    женат / замужем                 0      F   сотрудник     0   \n",
       "1    женат / замужем                 0      F   сотрудник     0   \n",
       "2    женат / замужем                 0      M   сотрудник     0   \n",
       "3    женат / замужем                 0      M   сотрудник     0   \n",
       "4   гражданский брак                 1      F   пенсионер     0   \n",
       "5   гражданский брак                 1      M   компаньон     0   \n",
       "6    женат / замужем                 0      F   компаньон     0   \n",
       "7    женат / замужем                 0      M   сотрудник     0   \n",
       "8   гражданский брак                 1      F   сотрудник     0   \n",
       "9    женат / замужем                 0      M   сотрудник     0   \n",
       "10   женат / замужем                 0      M   компаньон     0   \n",
       "11   женат / замужем                 0      F   сотрудник     0   \n",
       "12  гражданский брак                 1      M   пенсионер     0   \n",
       "13   женат / замужем                 0      F   сотрудник     0   \n",
       "14  гражданский брак                 1      F   компаньон     1   \n",
       "15   женат / замужем                 0      F   сотрудник     0   \n",
       "16   женат / замужем                 0      F   сотрудник     0   \n",
       "17  гражданский брак                 1      M   сотрудник     0   \n",
       "18    вдовец / вдова                 2      F   пенсионер     0   \n",
       "19         в разводе                 3      F   сотрудник     0   \n",
       "\n",
       "     total_income                                 purpose  \n",
       "0   253875.639453                           покупка жилья  \n",
       "1   112080.014102                 приобретение автомобиля  \n",
       "2   145885.952297                           покупка жилья  \n",
       "3   267628.550329              дополнительное образование  \n",
       "4   158616.077870                         сыграть свадьбу  \n",
       "5   255763.565419                           покупка жилья  \n",
       "6   240525.971920                       операции с жильем  \n",
       "7   135823.934197                             образование  \n",
       "8    95856.832424                   на проведение свадьбы  \n",
       "9   144425.938277                 покупка жилья для семьи  \n",
       "10  113943.491460                    покупка недвижимости  \n",
       "11   77069.234271       покупка коммерческой недвижимости  \n",
       "12            NaN                         сыграть свадьбу  \n",
       "13  130458.228857                 приобретение автомобиля  \n",
       "14  165127.911772              покупка жилой недвижимости  \n",
       "15  116820.904450  строительство собственной недвижимости  \n",
       "16  289202.704229                            недвижимость  \n",
       "17   90410.586745              строительство недвижимости  \n",
       "18   56823.777243      на покупку подержанного автомобиля  \n",
       "19  242831.107982            на покупку своего автомобиля  "
      ]
     },
     "execution_count": 2,
     "metadata": {},
     "output_type": "execute_result"
    }
   ],
   "source": [
    "data.head(20)"
   ]
  },
  {
   "cell_type": "markdown",
   "id": "0ed8f27f",
   "metadata": {
    "deletable": false,
    "editable": false,
    "id": "0ed8f27f"
   },
   "source": [
    "**Задание 3. Выведите основную информацию о датафрейме с помощью метода `info()`.**"
   ]
  },
  {
   "cell_type": "code",
   "execution_count": 3,
   "id": "ab3f863b",
   "metadata": {
    "deletable": false,
    "id": "ab3f863b",
    "outputId": "15376089-8dad-46c9-b520-c05248d43158"
   },
   "outputs": [
    {
     "name": "stdout",
     "output_type": "stream",
     "text": [
      "<class 'pandas.core.frame.DataFrame'>\n",
      "RangeIndex: 21525 entries, 0 to 21524\n",
      "Data columns (total 12 columns):\n",
      " #   Column            Non-Null Count  Dtype  \n",
      "---  ------            --------------  -----  \n",
      " 0   children          21525 non-null  int64  \n",
      " 1   days_employed     19351 non-null  float64\n",
      " 2   dob_years         21525 non-null  int64  \n",
      " 3   education         21525 non-null  object \n",
      " 4   education_id      21525 non-null  int64  \n",
      " 5   family_status     21525 non-null  object \n",
      " 6   family_status_id  21525 non-null  int64  \n",
      " 7   gender            21525 non-null  object \n",
      " 8   income_type       21525 non-null  object \n",
      " 9   debt              21525 non-null  int64  \n",
      " 10  total_income      19351 non-null  float64\n",
      " 11  purpose           21525 non-null  object \n",
      "dtypes: float64(2), int64(5), object(5)\n",
      "memory usage: 2.0+ MB\n"
     ]
    }
   ],
   "source": [
    "data.info()"
   ]
  },
  {
   "cell_type": "markdown",
   "id": "60e3e22d",
   "metadata": {
    "deletable": false,
    "editable": false,
    "id": "60e3e22d"
   },
   "source": [
    "## Предобработка данных"
   ]
  },
  {
   "cell_type": "markdown",
   "id": "03dc170c",
   "metadata": {
    "deletable": false,
    "editable": false,
    "id": "03dc170c"
   },
   "source": [
    "### Удаление пропусков"
   ]
  },
  {
   "cell_type": "markdown",
   "id": "a4f54eef",
   "metadata": {
    "deletable": false,
    "editable": false,
    "id": "a4f54eef"
   },
   "source": [
    "**Задание 4. Выведите количество пропущенных значений для каждого столбца. Используйте комбинацию двух методов.**"
   ]
  },
  {
   "cell_type": "code",
   "execution_count": 4,
   "id": "2dc372b2",
   "metadata": {
    "deletable": false,
    "id": "2dc372b2",
    "outputId": "81f4d817-781c-465c-ed15-91ce4446810d"
   },
   "outputs": [
    {
     "data": {
      "text/plain": [
       "children               0\n",
       "days_employed       2174\n",
       "dob_years              0\n",
       "education              0\n",
       "education_id           0\n",
       "family_status          0\n",
       "family_status_id       0\n",
       "gender                 0\n",
       "income_type            0\n",
       "debt                   0\n",
       "total_income        2174\n",
       "purpose                0\n",
       "dtype: int64"
      ]
     },
     "execution_count": 4,
     "metadata": {},
     "output_type": "execute_result"
    }
   ],
   "source": [
    "data.isna().sum()"
   ]
  },
  {
   "cell_type": "markdown",
   "id": "14f011b1",
   "metadata": {
    "deletable": false,
    "editable": false,
    "id": "14f011b1"
   },
   "source": [
    "**Задание 5. В двух столбцах есть пропущенные значения. Один из них — `days_employed`. Пропуски в этом столбце вы обработаете на следующем этапе. Другой столбец с пропущенными значениями — `total_income` — хранит данные о доходах. На сумму дохода сильнее всего влияет тип занятости, поэтому заполнить пропуски в этом столбце нужно медианным значением по каждому типу из столбца `income_type`. Например, у человека с типом занятости `сотрудник` пропуск в столбце `total_income` должен быть заполнен медианным доходом среди всех записей с тем же типом.**"
   ]
  },
  {
   "cell_type": "code",
   "execution_count": 5,
   "id": "bdabfb6e",
   "metadata": {
    "deletable": false,
    "id": "bdabfb6e"
   },
   "outputs": [],
   "source": [
    "for t in data['income_type'].unique():\n",
    "    data.loc[(data['income_type'] == t) & (data['total_income'].isna()), 'total_income'] = \\\n",
    "    data.loc[(data['income_type'] == t), 'total_income'].median()"
   ]
  },
  {
   "cell_type": "markdown",
   "id": "5be34059",
   "metadata": {
    "deletable": false,
    "editable": false,
    "id": "5be34059"
   },
   "source": [
    "### Обработка аномальных значений"
   ]
  },
  {
   "cell_type": "markdown",
   "id": "a87606cb",
   "metadata": {
    "deletable": false,
    "editable": false,
    "id": "a87606cb"
   },
   "source": [
    "**Задание 6. В данных могут встречаться артефакты (аномалии) — значения, которые не отражают действительность и появились по какой-то ошибке. таким артефактом будет отрицательное количество дней трудового стажа в столбце `days_employed`. Для реальных данных это нормально. Обработайте значения в этом столбце: замените все отрицательные значения положительными с помощью метода `abs()`.**"
   ]
  },
  {
   "cell_type": "code",
   "execution_count": 6,
   "id": "020c46cc",
   "metadata": {
    "deletable": false,
    "id": "020c46cc"
   },
   "outputs": [],
   "source": [
    "data['days_employed'] = data['days_employed'].abs()"
   ]
  },
  {
   "cell_type": "markdown",
   "id": "45538a3a",
   "metadata": {
    "deletable": false,
    "editable": false,
    "id": "45538a3a"
   },
   "source": [
    "**Задание 7. Для каждого типа занятости выведите медианное значение трудового стажа `days_employed` в днях.**"
   ]
  },
  {
   "cell_type": "code",
   "execution_count": 7,
   "id": "cd3e6328",
   "metadata": {
    "deletable": false,
    "id": "cd3e6328",
    "outputId": "801ef80e-522b-4668-f34e-565af7432bcf"
   },
   "outputs": [
    {
     "data": {
      "text/plain": [
       "income_type\n",
       "безработный        366413.652744\n",
       "в декрете            3296.759962\n",
       "госслужащий          2689.368353\n",
       "компаньон            1547.382223\n",
       "пенсионер          365213.306266\n",
       "предприниматель       520.848083\n",
       "сотрудник            1574.202821\n",
       "студент               578.751554\n",
       "Name: days_employed, dtype: float64"
      ]
     },
     "execution_count": 7,
     "metadata": {},
     "output_type": "execute_result"
    }
   ],
   "source": [
    "data.groupby('income_type')['days_employed'].agg('median')"
   ]
  },
  {
   "cell_type": "markdown",
   "id": "90c5f058",
   "metadata": {
    "deletable": false,
    "editable": false,
    "id": "90c5f058"
   },
   "source": [
    "У двух типов (безработные и пенсионеры) получатся аномально большие значения. Исправить такие значения сложно, поэтому оставьте их как есть."
   ]
  },
  {
   "cell_type": "markdown",
   "id": "9652e50d",
   "metadata": {
    "deletable": false,
    "editable": false,
    "id": "9652e50d"
   },
   "source": [
    "**Задание 8. Выведите перечень уникальных значений столбца `children`.**"
   ]
  },
  {
   "cell_type": "code",
   "execution_count": 8,
   "id": "dbb37b8e",
   "metadata": {
    "deletable": false,
    "id": "dbb37b8e",
    "outputId": "6975b15c-7f95-4697-d16d-a0c79b657b03"
   },
   "outputs": [
    {
     "data": {
      "text/plain": [
       "array([ 1,  0,  3,  2, -1,  4, 20,  5], dtype=int64)"
      ]
     },
     "execution_count": 8,
     "metadata": {},
     "output_type": "execute_result"
    }
   ],
   "source": [
    "data['children'].unique()"
   ]
  },
  {
   "cell_type": "markdown",
   "id": "2b8b0715",
   "metadata": {
    "deletable": false,
    "editable": false,
    "id": "2b8b0715"
   },
   "source": [
    "**Задание 9. В столбце `children` есть два аномальных значения. Удалите строки, в которых встречаются такие аномальные значения из датафрейма `data`.**"
   ]
  },
  {
   "cell_type": "code",
   "execution_count": 9,
   "id": "20009df8",
   "metadata": {
    "deletable": false,
    "id": "20009df8"
   },
   "outputs": [],
   "source": [
    "data = data[(data['children'] != -1) & (data['children'] != 20)]"
   ]
  },
  {
   "cell_type": "markdown",
   "id": "8c6ac9f1",
   "metadata": {
    "deletable": false,
    "editable": false,
    "id": "8c6ac9f1"
   },
   "source": [
    "**Задание 10. Ещё раз выведите перечень уникальных значений столбца `children`, чтобы убедиться, что артефакты удалены.**"
   ]
  },
  {
   "cell_type": "code",
   "execution_count": 10,
   "id": "07337b81",
   "metadata": {
    "deletable": false,
    "id": "07337b81",
    "outputId": "b2097101-d49d-44d9-901b-32a65c9463d1"
   },
   "outputs": [
    {
     "data": {
      "text/plain": [
       "array([1, 0, 3, 2, 4, 5], dtype=int64)"
      ]
     },
     "execution_count": 10,
     "metadata": {},
     "output_type": "execute_result"
    }
   ],
   "source": [
    "data['children'].unique()"
   ]
  },
  {
   "cell_type": "markdown",
   "id": "ee3f52d4",
   "metadata": {
    "deletable": false,
    "editable": false,
    "id": "ee3f52d4"
   },
   "source": [
    "### Удаление пропусков (продолжение)"
   ]
  },
  {
   "cell_type": "markdown",
   "id": "a700b0e4",
   "metadata": {
    "deletable": false,
    "editable": false,
    "id": "a700b0e4"
   },
   "source": [
    "**Задание 11. Заполните пропуски в столбце `days_employed` медианными значениями по каждого типа занятости `income_type`.**"
   ]
  },
  {
   "cell_type": "code",
   "execution_count": 11,
   "id": "61946b83",
   "metadata": {
    "deletable": false,
    "id": "61946b83"
   },
   "outputs": [],
   "source": [
    "for t in data['income_type'].unique():\n",
    "    data.loc[(data['income_type'] == t) & (data['days_employed'].isna()), 'days_employed'] = \\\n",
    "    data.loc[(data['income_type'] == t), 'days_employed'].median()"
   ]
  },
  {
   "cell_type": "markdown",
   "id": "550dcd9b",
   "metadata": {
    "deletable": false,
    "editable": false,
    "id": "550dcd9b"
   },
   "source": [
    "**Задание 12. Убедитесь, что все пропуски заполнены. Проверьте себя и ещё раз выведите количество пропущенных значений для каждого столбца с помощью двух методов.**"
   ]
  },
  {
   "cell_type": "code",
   "execution_count": 12,
   "id": "937c7014",
   "metadata": {
    "deletable": false,
    "id": "937c7014",
    "outputId": "8da1e4e1-358e-4e87-98c9-f261bce0a7b2"
   },
   "outputs": [
    {
     "data": {
      "text/plain": [
       "children            0\n",
       "days_employed       0\n",
       "dob_years           0\n",
       "education           0\n",
       "education_id        0\n",
       "family_status       0\n",
       "family_status_id    0\n",
       "gender              0\n",
       "income_type         0\n",
       "debt                0\n",
       "total_income        0\n",
       "purpose             0\n",
       "dtype: int64"
      ]
     },
     "execution_count": 12,
     "metadata": {},
     "output_type": "execute_result"
    }
   ],
   "source": [
    "data.isna().sum()\n"
   ]
  },
  {
   "cell_type": "markdown",
   "id": "d522e295",
   "metadata": {
    "deletable": false,
    "editable": false,
    "id": "d522e295"
   },
   "source": [
    "### Изменение типов данных"
   ]
  },
  {
   "cell_type": "markdown",
   "id": "c229c581",
   "metadata": {
    "deletable": false,
    "editable": false,
    "id": "c229c581"
   },
   "source": [
    "**Задание 13. Замените вещественный тип данных в столбце `total_income` на целочисленный с помощью метода `astype()`.**"
   ]
  },
  {
   "cell_type": "code",
   "execution_count": 13,
   "id": "31036462",
   "metadata": {
    "deletable": false,
    "id": "31036462"
   },
   "outputs": [],
   "source": [
    "data['total_income'] = data['total_income'].astype(int)"
   ]
  },
  {
   "cell_type": "markdown",
   "id": "b8e3d1d9",
   "metadata": {
    "deletable": false,
    "editable": false,
    "id": "b8e3d1d9"
   },
   "source": [
    "### Обработка дубликатов"
   ]
  },
  {
   "cell_type": "markdown",
   "id": "9be53c49",
   "metadata": {
    "deletable": false,
    "editable": false,
    "id": "9be53c49"
   },
   "source": [
    "**Задание 14. Обработайте неявные дубликаты в столбце `education`. В этом столбце есть одни и те же значения, но записанные по-разному: с использованием заглавных и строчных букв. Приведите их к нижнему регистру.**"
   ]
  },
  {
   "cell_type": "code",
   "execution_count": 14,
   "id": "d89e73e1",
   "metadata": {
    "deletable": false,
    "id": "d89e73e1"
   },
   "outputs": [],
   "source": [
    "data['education'] = data['education'].str.lower()"
   ]
  },
  {
   "cell_type": "markdown",
   "id": "01d4500e",
   "metadata": {
    "deletable": false,
    "editable": false,
    "id": "01d4500e"
   },
   "source": [
    "**Задание 15. Выведите на экран количество строк-дубликатов в данных. Если такие строки присутствуют, удалите их.**"
   ]
  },
  {
   "cell_type": "code",
   "execution_count": 15,
   "id": "e10efb23",
   "metadata": {
    "deletable": false,
    "id": "e10efb23",
    "outputId": "9684deba-1934-42d1-99e1-cda61740f822"
   },
   "outputs": [
    {
     "data": {
      "text/plain": [
       "71"
      ]
     },
     "execution_count": 15,
     "metadata": {},
     "output_type": "execute_result"
    }
   ],
   "source": [
    "data.duplicated().sum()"
   ]
  },
  {
   "cell_type": "code",
   "execution_count": 16,
   "id": "df853f20",
   "metadata": {
    "deletable": false,
    "id": "df853f20"
   },
   "outputs": [],
   "source": [
    "data = data.drop_duplicates()"
   ]
  },
  {
   "cell_type": "markdown",
   "id": "627be38f",
   "metadata": {
    "deletable": false,
    "editable": false,
    "id": "627be38f"
   },
   "source": [
    "### Категоризация данных"
   ]
  },
  {
   "cell_type": "markdown",
   "id": "4684c3e0",
   "metadata": {
    "deletable": false,
    "editable": false,
    "id": "4684c3e0"
   },
   "source": [
    "**Задание 16. На основании диапазонов, указанных ниже, создайте в датафрейме `data` столбец `total_income_category` с категориями:**\n",
    "\n",
    "- 0–30000 — `'E'`;\n",
    "- 30001–50000 — `'D'`;\n",
    "- 50001–200000 — `'C'`;\n",
    "- 200001–1000000 — `'B'`;\n",
    "- 1000001 и выше — `'A'`.\n",
    "\n",
    "\n",
    "**Например, кредитополучателю с доходом 25000 нужно назначить категорию `'E'`, а клиенту, получающему 235000, — `'B'`. Используйте собственную функцию с именем `categorize_income()` и метод `apply()`.**"
   ]
  },
  {
   "cell_type": "code",
   "execution_count": 17,
   "id": "78965238",
   "metadata": {
    "deletable": false,
    "id": "78965238"
   },
   "outputs": [],
   "source": [
    "def categorize_income(income):\n",
    "    try:\n",
    "        if 0 <= income <= 30000:\n",
    "            return 'E'\n",
    "        elif 30001 <= income <= 50000:\n",
    "            return 'D'\n",
    "        elif 50001 <= income <= 200000:\n",
    "            return 'C'\n",
    "        elif 200001 <= income <= 1000000:\n",
    "            return 'B'\n",
    "        elif income >= 1000001:\n",
    "            return 'A'\n",
    "    except:\n",
    "        pass"
   ]
  },
  {
   "cell_type": "code",
   "execution_count": 18,
   "id": "0980ada1",
   "metadata": {
    "deletable": false,
    "id": "0980ada1"
   },
   "outputs": [],
   "source": [
    "data['total_income_category'] = data['total_income'].apply(categorize_income)"
   ]
  },
  {
   "cell_type": "markdown",
   "id": "9917bba0",
   "metadata": {
    "deletable": false,
    "editable": false,
    "id": "9917bba0"
   },
   "source": [
    "**Задание 17. Выведите на экран перечень уникальных целей взятия кредита из столбца `purpose`.**"
   ]
  },
  {
   "cell_type": "code",
   "execution_count": 19,
   "id": "ee07b65e",
   "metadata": {
    "deletable": false,
    "id": "ee07b65e",
    "outputId": "673c12d9-7d7e-4ae0-9812-c622c89dd244"
   },
   "outputs": [
    {
     "data": {
      "text/plain": [
       "array(['покупка жилья', 'приобретение автомобиля',\n",
       "       'дополнительное образование', 'сыграть свадьбу',\n",
       "       'операции с жильем', 'образование', 'на проведение свадьбы',\n",
       "       'покупка жилья для семьи', 'покупка недвижимости',\n",
       "       'покупка коммерческой недвижимости', 'покупка жилой недвижимости',\n",
       "       'строительство собственной недвижимости', 'недвижимость',\n",
       "       'строительство недвижимости', 'на покупку подержанного автомобиля',\n",
       "       'на покупку своего автомобиля',\n",
       "       'операции с коммерческой недвижимостью',\n",
       "       'строительство жилой недвижимости', 'жилье',\n",
       "       'операции со своей недвижимостью', 'автомобили',\n",
       "       'заняться образованием', 'сделка с подержанным автомобилем',\n",
       "       'получение образования', 'автомобиль', 'свадьба',\n",
       "       'получение дополнительного образования', 'покупка своего жилья',\n",
       "       'операции с недвижимостью', 'получение высшего образования',\n",
       "       'свой автомобиль', 'сделка с автомобилем',\n",
       "       'профильное образование', 'высшее образование',\n",
       "       'покупка жилья для сдачи', 'на покупку автомобиля', 'ремонт жилью',\n",
       "       'заняться высшим образованием'], dtype=object)"
      ]
     },
     "execution_count": 19,
     "metadata": {},
     "output_type": "execute_result"
    }
   ],
   "source": [
    "data['purpose'].unique()"
   ]
  },
  {
   "cell_type": "markdown",
   "id": "52b79d56",
   "metadata": {
    "deletable": false,
    "editable": false,
    "id": "52b79d56"
   },
   "source": [
    "**Задание 18. Создайте функцию, которая на основании данных из столбца `purpose` сформирует новый столбец `purpose_category`, в который войдут следующие категории:**\n",
    "\n",
    "- `'операции с автомобилем'`,\n",
    "- `'операции с недвижимостью'`,\n",
    "- `'проведение свадьбы'`,\n",
    "- `'получение образования'`.\n",
    "\n",
    "**Например, если в столбце `purpose` находится подстрока `'на покупку автомобиля'`, то в столбце `purpose_category` должна появиться строка `'операции с автомобилем'`.**\n",
    "\n",
    "**Используйте собственную функцию с именем `categorize_purpose()` и метод `apply()`. Изучите данные в столбце `purpose` и определите, какие подстроки помогут вам правильно определить категорию.**"
   ]
  },
  {
   "cell_type": "code",
   "execution_count": 20,
   "id": "be41da5d",
   "metadata": {
    "deletable": false,
    "id": "be41da5d"
   },
   "outputs": [],
   "source": [
    "def categorize_purpose(row):\n",
    "    try:\n",
    "        if 'автом' in row:\n",
    "            return 'операции с автомобилем'\n",
    "        elif 'жил' in row or 'недвиж' in row:\n",
    "            return 'операции с недвижимостью'\n",
    "        elif 'свад' in row:\n",
    "            return 'проведение свадьбы'\n",
    "        elif 'образов' in row:\n",
    "            return 'получение образования'\n",
    "    except:\n",
    "        return 'нет категории'"
   ]
  },
  {
   "cell_type": "code",
   "execution_count": 21,
   "id": "94c4a19a",
   "metadata": {
    "deletable": false,
    "id": "94c4a19a"
   },
   "outputs": [],
   "source": [
    "data['purpose_category'] = data['purpose'].apply(categorize_purpose)"
   ]
  },
  {
   "cell_type": "markdown",
   "id": "3d596c34",
   "metadata": {
    "deletable": false,
    "editable": false,
    "id": "3d596c34"
   },
   "source": [
    "### Шаг 3. Исследуйте данные и ответьте на вопросы"
   ]
  },
  {
   "cell_type": "markdown",
   "id": "648db036",
   "metadata": {
    "deletable": false,
    "editable": false,
    "id": "648db036"
   },
   "source": [
    "#### 3.1 Есть ли зависимость между количеством детей и возвратом кредита в срок?"
   ]
  },
  {
   "cell_type": "code",
   "execution_count": 22,
   "id": "7fcff25e",
   "metadata": {
    "deletable": false,
    "id": "7fcff25e"
   },
   "outputs": [
    {
     "data": {
      "text/html": [
       "<div>\n",
       "<style scoped>\n",
       "    .dataframe tbody tr th:only-of-type {\n",
       "        vertical-align: middle;\n",
       "    }\n",
       "\n",
       "    .dataframe tbody tr th {\n",
       "        vertical-align: top;\n",
       "    }\n",
       "\n",
       "    .dataframe thead th {\n",
       "        text-align: right;\n",
       "    }\n",
       "</style>\n",
       "<table border=\"1\" class=\"dataframe\">\n",
       "  <thead>\n",
       "    <tr style=\"text-align: right;\">\n",
       "      <th></th>\n",
       "      <th>total</th>\n",
       "      <th>debt</th>\n",
       "      <th>ratio</th>\n",
       "      <th>debt_category</th>\n",
       "    </tr>\n",
       "    <tr>\n",
       "      <th>children</th>\n",
       "      <th></th>\n",
       "      <th></th>\n",
       "      <th></th>\n",
       "      <th></th>\n",
       "    </tr>\n",
       "  </thead>\n",
       "  <tbody>\n",
       "    <tr>\n",
       "      <th>4</th>\n",
       "      <td>41</td>\n",
       "      <td>4</td>\n",
       "      <td>0.097561</td>\n",
       "      <td>negative</td>\n",
       "    </tr>\n",
       "    <tr>\n",
       "      <th>2</th>\n",
       "      <td>2052</td>\n",
       "      <td>194</td>\n",
       "      <td>0.094542</td>\n",
       "      <td>negative</td>\n",
       "    </tr>\n",
       "    <tr>\n",
       "      <th>1</th>\n",
       "      <td>4808</td>\n",
       "      <td>444</td>\n",
       "      <td>0.092346</td>\n",
       "      <td>negative</td>\n",
       "    </tr>\n",
       "    <tr>\n",
       "      <th>3</th>\n",
       "      <td>330</td>\n",
       "      <td>27</td>\n",
       "      <td>0.081818</td>\n",
       "      <td>negative</td>\n",
       "    </tr>\n",
       "    <tr>\n",
       "      <th>0</th>\n",
       "      <td>14091</td>\n",
       "      <td>1063</td>\n",
       "      <td>0.075438</td>\n",
       "      <td>positive</td>\n",
       "    </tr>\n",
       "    <tr>\n",
       "      <th>5</th>\n",
       "      <td>9</td>\n",
       "      <td>0</td>\n",
       "      <td>0.000000</td>\n",
       "      <td>positive</td>\n",
       "    </tr>\n",
       "  </tbody>\n",
       "</table>\n",
       "</div>"
      ],
      "text/plain": [
       "          total  debt     ratio debt_category\n",
       "children                                     \n",
       "4            41     4  0.097561      negative\n",
       "2          2052   194  0.094542      negative\n",
       "1          4808   444  0.092346      negative\n",
       "3           330    27  0.081818      negative\n",
       "0         14091  1063  0.075438      positive\n",
       "5             9     0  0.000000      positive"
      ]
     },
     "execution_count": 22,
     "metadata": {},
     "output_type": "execute_result"
    }
   ],
   "source": [
    "# Создание сводной таблицы, сгруппированной по числу детей:\n",
    "data_children_pivot = data.pivot_table(index=['children'], values='debt', aggfunc = {'count','sum'})\n",
    "\n",
    "# Перименование стобцов, добавление столбца с соотношением числа имеющих задолженности к общему число заемщиков\n",
    "data_children_pivot.rename(columns={'count':'total', 'sum':'debt'}, inplace=True)\n",
    "data_children_pivot['ratio'] = data_children_pivot['debt'] / data_children_pivot['total']\n",
    "\n",
    "# создание функции для определения категории заемщиков: negative - если соотношение выше среднего и positive в ином случае:\n",
    "def debt_category(ratio):\n",
    "    try:\n",
    "        if ratio >= data_children_pivot['debt'].sum() / data_children_pivot['total'].sum():\n",
    "            return 'negative'\n",
    "        return 'positive'   \n",
    "    except:\n",
    "        pass\n",
    "data_children_pivot['debt_category'] = data_children_pivot['ratio'].apply(debt_category)\n",
    "\n",
    "data_children_pivot.sort_values('ratio',ascending=False)\n"
   ]
  },
  {
   "cell_type": "markdown",
   "id": "2eb9088e",
   "metadata": {
    "deletable": false,
    "id": "2eb9088e"
   },
   "source": [
    "**Вывод:** \n",
    "\n",
    "Наблюдается следующая связь:\n",
    "заемщики с детьми имеют более высокую вероятность невыплаты долга, чем заемщики без детей. Можно объяснить частыми непредвиденными семейными тратами, влекущими финансовую нестабильность. Самый высокий процент невыплат у людей, имеющих четыре ребенка.\n",
    "\n",
    "Заемщики без детей имеют показатель ниже среднего, соответственно, реже имеют проблемы с выплатами задолженностей\n",
    "\n",
    "Также следует отметить, что у заемщиков, имеющих 5 детей, нулевой процент невыплат. Однако это самая малочисленная группа (менее 0,05% от общего числа) и можно считать вероятность невыплаты недостаточно предсказуемой, особенно учитывая, что самый высокий процент неплательщиков - заемщики с четырьмя детьми.\n",
    "\n",
    "Итог: заемщики без детей выплачивают кредит чаще, чем имеющие детей"
   ]
  },
  {
   "cell_type": "markdown",
   "id": "74c9b3a7",
   "metadata": {
    "deletable": false,
    "editable": false,
    "id": "74c9b3a7"
   },
   "source": [
    "#### 3.2 Есть ли зависимость между семейным положением и возвратом кредита в срок?"
   ]
  },
  {
   "cell_type": "code",
   "execution_count": 23,
   "id": "8098ab3b",
   "metadata": {
    "deletable": false,
    "id": "8098ab3b"
   },
   "outputs": [
    {
     "data": {
      "text/html": [
       "<div>\n",
       "<style scoped>\n",
       "    .dataframe tbody tr th:only-of-type {\n",
       "        vertical-align: middle;\n",
       "    }\n",
       "\n",
       "    .dataframe tbody tr th {\n",
       "        vertical-align: top;\n",
       "    }\n",
       "\n",
       "    .dataframe thead th {\n",
       "        text-align: right;\n",
       "    }\n",
       "</style>\n",
       "<table border=\"1\" class=\"dataframe\">\n",
       "  <thead>\n",
       "    <tr style=\"text-align: right;\">\n",
       "      <th></th>\n",
       "      <th>total</th>\n",
       "      <th>debt</th>\n",
       "      <th>ratio</th>\n",
       "      <th>debt_category</th>\n",
       "    </tr>\n",
       "    <tr>\n",
       "      <th>family_status</th>\n",
       "      <th></th>\n",
       "      <th></th>\n",
       "      <th></th>\n",
       "      <th></th>\n",
       "    </tr>\n",
       "  </thead>\n",
       "  <tbody>\n",
       "    <tr>\n",
       "      <th>Не женат / не замужем</th>\n",
       "      <td>2796</td>\n",
       "      <td>273</td>\n",
       "      <td>0.097639</td>\n",
       "      <td>negative</td>\n",
       "    </tr>\n",
       "    <tr>\n",
       "      <th>гражданский брак</th>\n",
       "      <td>4134</td>\n",
       "      <td>385</td>\n",
       "      <td>0.093130</td>\n",
       "      <td>negative</td>\n",
       "    </tr>\n",
       "    <tr>\n",
       "      <th>женат / замужем</th>\n",
       "      <td>12261</td>\n",
       "      <td>927</td>\n",
       "      <td>0.075606</td>\n",
       "      <td>positive</td>\n",
       "    </tr>\n",
       "    <tr>\n",
       "      <th>в разводе</th>\n",
       "      <td>1189</td>\n",
       "      <td>84</td>\n",
       "      <td>0.070648</td>\n",
       "      <td>positive</td>\n",
       "    </tr>\n",
       "    <tr>\n",
       "      <th>вдовец / вдова</th>\n",
       "      <td>951</td>\n",
       "      <td>63</td>\n",
       "      <td>0.066246</td>\n",
       "      <td>positive</td>\n",
       "    </tr>\n",
       "  </tbody>\n",
       "</table>\n",
       "</div>"
      ],
      "text/plain": [
       "                       total  debt     ratio debt_category\n",
       "family_status                                             \n",
       "Не женат / не замужем   2796   273  0.097639      negative\n",
       "гражданский брак        4134   385  0.093130      negative\n",
       "женат / замужем        12261   927  0.075606      positive\n",
       "в разводе               1189    84  0.070648      positive\n",
       "вдовец / вдова           951    63  0.066246      positive"
      ]
     },
     "execution_count": 23,
     "metadata": {},
     "output_type": "execute_result"
    }
   ],
   "source": [
    "# Создание сводной таблицы, сгруппированной по семейному положению:\n",
    "data_fam_status_pivot = data.pivot_table(index=['family_status'], values='debt', aggfunc = {'count','sum'})\n",
    "\n",
    "# Перименование стобцов, добавление столбца с соотношением числа имеющих задолженности к общему число заемщиков\n",
    "data_fam_status_pivot.rename(columns={'count':'total', 'sum':'debt'}, inplace=True)\n",
    "data_fam_status_pivot['ratio'] = data_fam_status_pivot['debt'] / data_fam_status_pivot['total']\n",
    "\n",
    "# создание функции для определения категории заемщиков: negative - если соотношение выше среднего и positive в ином случае:\n",
    "def debt_category(ratio):\n",
    "    try:\n",
    "        if ratio >= data_fam_status_pivot['debt'].sum() / data_fam_status_pivot['total'].sum():\n",
    "            return 'negative'\n",
    "        return 'positive'   \n",
    "    except:\n",
    "        pass    \n",
    "data_fam_status_pivot['debt_category'] = data_fam_status_pivot['ratio'].apply(debt_category)\n",
    "\n",
    "data_fam_status_pivot.sort_values('ratio', ascending=False)"
   ]
  },
  {
   "cell_type": "markdown",
   "id": "c389ca63",
   "metadata": {
    "deletable": false,
    "id": "c389ca63"
   },
   "source": [
    "**Вывод:** \n",
    "\n",
    "Зависимость выражена в следующем:\n",
    "\n",
    "- Не состоящие в официальном браке люди имеют самую высокую вероятность невыплаты долга (более 9%). Чаще всего это люди молодого возраста, могут быть финансово и карьерно нестабильны. Также высокий процент можно объяснить отсутствием партнера, способного разделить финансовые обязательства\n",
    "\n",
    "- Люди, состоящие в официальном браке или имевшие такой опыт ранее, наоборот, чаще выплачивают кредиты. Женатые (замужние) заемщики могут положиться на общий, семейный бюджет.\n",
    "Разведенные и овдовевшие клиенты имеют больший жизненный опыт, рассчитывают только на свои силы и более ответственны в финансовых вопросах.\n",
    "\n",
    "Итог: заемщики, состоящие в официальном браке или имевшие такой опыт ранее, чаще выплачивают задолженности, чем неженатые (незамужние). Самый низкий процент невыплат у овдовевших клиентов."
   ]
  },
  {
   "cell_type": "markdown",
   "id": "9529de68",
   "metadata": {
    "deletable": false,
    "editable": false,
    "id": "9529de68"
   },
   "source": [
    "#### 3.3 Есть ли зависимость между уровнем дохода и возвратом кредита в срок?"
   ]
  },
  {
   "cell_type": "code",
   "execution_count": 24,
   "id": "8787f44a",
   "metadata": {
    "deletable": false,
    "id": "8787f44a"
   },
   "outputs": [
    {
     "data": {
      "text/html": [
       "<div>\n",
       "<style scoped>\n",
       "    .dataframe tbody tr th:only-of-type {\n",
       "        vertical-align: middle;\n",
       "    }\n",
       "\n",
       "    .dataframe tbody tr th {\n",
       "        vertical-align: top;\n",
       "    }\n",
       "\n",
       "    .dataframe thead th {\n",
       "        text-align: right;\n",
       "    }\n",
       "</style>\n",
       "<table border=\"1\" class=\"dataframe\">\n",
       "  <thead>\n",
       "    <tr style=\"text-align: right;\">\n",
       "      <th></th>\n",
       "      <th>total</th>\n",
       "      <th>debt</th>\n",
       "      <th>ratio</th>\n",
       "      <th>debt_category</th>\n",
       "    </tr>\n",
       "    <tr>\n",
       "      <th>total_income_category</th>\n",
       "      <th></th>\n",
       "      <th></th>\n",
       "      <th></th>\n",
       "      <th></th>\n",
       "    </tr>\n",
       "  </thead>\n",
       "  <tbody>\n",
       "    <tr>\n",
       "      <th>E</th>\n",
       "      <td>22</td>\n",
       "      <td>2</td>\n",
       "      <td>0.090909</td>\n",
       "      <td>negative</td>\n",
       "    </tr>\n",
       "    <tr>\n",
       "      <th>C</th>\n",
       "      <td>15921</td>\n",
       "      <td>1353</td>\n",
       "      <td>0.084982</td>\n",
       "      <td>negative</td>\n",
       "    </tr>\n",
       "    <tr>\n",
       "      <th>A</th>\n",
       "      <td>25</td>\n",
       "      <td>2</td>\n",
       "      <td>0.080000</td>\n",
       "      <td>positive</td>\n",
       "    </tr>\n",
       "    <tr>\n",
       "      <th>B</th>\n",
       "      <td>5014</td>\n",
       "      <td>354</td>\n",
       "      <td>0.070602</td>\n",
       "      <td>positive</td>\n",
       "    </tr>\n",
       "    <tr>\n",
       "      <th>D</th>\n",
       "      <td>349</td>\n",
       "      <td>21</td>\n",
       "      <td>0.060172</td>\n",
       "      <td>positive</td>\n",
       "    </tr>\n",
       "  </tbody>\n",
       "</table>\n",
       "</div>"
      ],
      "text/plain": [
       "                       total  debt     ratio debt_category\n",
       "total_income_category                                     \n",
       "E                         22     2  0.090909      negative\n",
       "C                      15921  1353  0.084982      negative\n",
       "A                         25     2  0.080000      positive\n",
       "B                       5014   354  0.070602      positive\n",
       "D                        349    21  0.060172      positive"
      ]
     },
     "execution_count": 24,
     "metadata": {},
     "output_type": "execute_result"
    }
   ],
   "source": [
    "\n",
    "# Создание сводной таблицы, сгруппированной по уровню дохода:\n",
    "data_income_category_pivot = data.pivot_table(index=['total_income_category'], values='debt', aggfunc = {'count','sum'})\n",
    "\n",
    "# Перименование стобцов, добавление столбца с соотношением числа имеющих задолженности к общему число заемщиков\n",
    "data_income_category_pivot.rename(columns={'count':'total', 'sum':'debt'}, inplace=True)\n",
    "data_income_category_pivot['ratio'] = data_income_category_pivot['debt'] / data_income_category_pivot['total']\n",
    "\n",
    "# создание функции для определения категории заемщиков: negative - если соотношение выше среднего и positive в ином случае:\n",
    "def debt_category(ratio):\n",
    "    try:\n",
    "        if ratio >= data_income_category_pivot['debt'].sum() / data_income_category_pivot['total'].sum():\n",
    "            return 'negative'\n",
    "        return 'positive'   \n",
    "    except:\n",
    "        pass   \n",
    "data_income_category_pivot['debt_category'] = data_income_category_pivot['ratio'].apply(debt_category)\n",
    "\n",
    "data_income_category_pivot.sort_values('ratio',ascending=False)"
   ]
  },
  {
   "cell_type": "markdown",
   "id": "6dd14b57",
   "metadata": {
    "deletable": false,
    "id": "6dd14b57"
   },
   "source": [
    "**Вывод:** \n",
    "\n",
    "Самая высокая вероятность невыплаты долга у заемщиков двух категорий:\n",
    "\n",
    "- E - заемщики с доходом менее 30.000: объясняется самым низким уровнем дохода.\n",
    "- C - заемщики с доходом 50.001–200.000: самая многочисленная, активная категория. Можно предположить наличие других кредитов и траты, превышающие доходы. \n",
    "\n",
    "\n",
    "Низкая вероятность невыплаты:\n",
    "\n",
    "- A - заемщики с доходом выше 1.000.000: немногочисленная категория, несмотря на то, что процент невыплат ниже среднего, имеют видимый отрыв от двух других \"позитивных\" категорий. Клиенты с высоким уровнем дохода чаще относятся к бизнесу или медиасфере, невыплаты можно объяснить нестабильностью доходов в этих сферах\n",
    "- B - заемщики с доходом 200.001–1.000.000: чаще выплачивают кредиты, что обусловлено достаточно высоким уровнем дохода\n",
    "- D - заемщики с доходом 30.001–50.000: самая надежная категория, в силу достаточно низкого дохода более ответственно относятся к финансам и не допускают штрафов за просрочку\n",
    "\n",
    "Итог: самые надежные клиенты для банка: заемщики категории B и D, клиенты категории E и С чаще других допускают невыплаты. \n",
    "Однако считаю, что более релевантно провести отдельный анализ по регионам, т.к. средний доход сильно отличается от региона к региону"
   ]
  },
  {
   "cell_type": "markdown",
   "id": "1dcc9b12",
   "metadata": {
    "deletable": false,
    "editable": false,
    "id": "1dcc9b12"
   },
   "source": [
    "#### 3.4 Как разные цели кредита влияют на его возврат в срок?"
   ]
  },
  {
   "cell_type": "code",
   "execution_count": 25,
   "id": "c602bc8b",
   "metadata": {
    "deletable": false,
    "id": "c602bc8b"
   },
   "outputs": [
    {
     "data": {
      "text/html": [
       "<div>\n",
       "<style scoped>\n",
       "    .dataframe tbody tr th:only-of-type {\n",
       "        vertical-align: middle;\n",
       "    }\n",
       "\n",
       "    .dataframe tbody tr th {\n",
       "        vertical-align: top;\n",
       "    }\n",
       "\n",
       "    .dataframe thead th {\n",
       "        text-align: right;\n",
       "    }\n",
       "</style>\n",
       "<table border=\"1\" class=\"dataframe\">\n",
       "  <thead>\n",
       "    <tr style=\"text-align: right;\">\n",
       "      <th></th>\n",
       "      <th>total</th>\n",
       "      <th>debt</th>\n",
       "      <th>ratio</th>\n",
       "      <th>debt_category</th>\n",
       "    </tr>\n",
       "    <tr>\n",
       "      <th>purpose_category</th>\n",
       "      <th></th>\n",
       "      <th></th>\n",
       "      <th></th>\n",
       "      <th></th>\n",
       "    </tr>\n",
       "  </thead>\n",
       "  <tbody>\n",
       "    <tr>\n",
       "      <th>операции с автомобилем</th>\n",
       "      <td>4279</td>\n",
       "      <td>400</td>\n",
       "      <td>0.093480</td>\n",
       "      <td>negative</td>\n",
       "    </tr>\n",
       "    <tr>\n",
       "      <th>получение образования</th>\n",
       "      <td>3988</td>\n",
       "      <td>369</td>\n",
       "      <td>0.092528</td>\n",
       "      <td>negative</td>\n",
       "    </tr>\n",
       "    <tr>\n",
       "      <th>проведение свадьбы</th>\n",
       "      <td>2313</td>\n",
       "      <td>183</td>\n",
       "      <td>0.079118</td>\n",
       "      <td>positive</td>\n",
       "    </tr>\n",
       "    <tr>\n",
       "      <th>операции с недвижимостью</th>\n",
       "      <td>10751</td>\n",
       "      <td>780</td>\n",
       "      <td>0.072551</td>\n",
       "      <td>positive</td>\n",
       "    </tr>\n",
       "  </tbody>\n",
       "</table>\n",
       "</div>"
      ],
      "text/plain": [
       "                          total  debt     ratio debt_category\n",
       "purpose_category                                             \n",
       "операции с автомобилем     4279   400  0.093480      negative\n",
       "получение образования      3988   369  0.092528      negative\n",
       "проведение свадьбы         2313   183  0.079118      positive\n",
       "операции с недвижимостью  10751   780  0.072551      positive"
      ]
     },
     "execution_count": 25,
     "metadata": {},
     "output_type": "execute_result"
    }
   ],
   "source": [
    "\n",
    "# Создание сводной таблицы, сгруппированной по цели кредита:\n",
    "data_purpose_pivot = data.pivot_table(index=['purpose_category'], values='debt', aggfunc = {'count','sum'})\n",
    "\n",
    "# Перименование стобцов, добавление столбца с соотношением числа имеющих задолженности к общему число заемщиков\n",
    "data_purpose_pivot.rename(columns={'count':'total', 'sum':'debt'}, inplace=True)\n",
    "data_purpose_pivot['ratio'] = data_purpose_pivot['debt'] / data_purpose_pivot['total']\n",
    "\n",
    "\n",
    "# создание функции для определения категории заемщиков: negative - если соотношение выше среднего и positive в ином случае:\n",
    "def debt_category(ratio):\n",
    "    try:\n",
    "        if ratio >= data_purpose_pivot['debt'].sum() / data_purpose_pivot['total'].sum():\n",
    "            return 'negative'\n",
    "        return 'positive'   \n",
    "    except:\n",
    "        pass    \n",
    "data_purpose_pivot['debt_category'] = data_purpose_pivot['ratio'].apply(debt_category)\n",
    "\n",
    "data_purpose_pivot.sort_values('ratio',ascending=False)"
   ]
  },
  {
   "cell_type": "markdown",
   "id": "cf05ed63",
   "metadata": {
    "deletable": false,
    "id": "cf05ed63"
   },
   "source": [
    "**Вывод:** \n",
    "Чаще не выплачиваются кредиты, оформленные с целью: \n",
    "\n",
    "- проведения операций с автомобилем: вероятно, заемщиками часто не учитывается появление новых расходов с появлением автомобиля\n",
    "- получения образования: можно объяснить текущим низким профессиональным уровнем, следовательно, низким карьерным уровнем. Клиенты, получающие образование финансово менее стабильны.\n",
    "\n",
    "Выплачиваются кредиты, оформленные с целью: \n",
    "- проведение свадьбы: вероятность невыплаты ниже среднего, заемщики, стремящиеся создать семью более ответственно подходят к финансовым вопросам. Также ранее сделан вывод, что клиенты, состоящие в браке, выплачивают кредит лучше, чем неженатые \n",
    "- операции с недвижимостью: самый низкий уровень невыплат. Заемщики, озадаченные жилищным вопросом, ответственно подходят к финансам. Кредиты, оформленные на операции с недвижимостью часто связаны с залогом, что дополнительно мотивирует своевременно погашать задолженности\n",
    "\n",
    "Итог: Скорее всего, роль играет итоговая сумма кредита: очевидно, что наибольшие суммы занимаются на проведение операций с недвижимостью, их выплачивают ответственнее. Кредиты на меньшие суммы (операции с авто, образование) выплачиваются хуже."
   ]
  },
  {
   "cell_type": "markdown",
   "id": "46c1f10b",
   "metadata": {
    "deletable": false,
    "editable": false,
    "id": "46c1f10b"
   },
   "source": [
    "#### 3.5 Приведите возможные причины появления пропусков в исходных данных."
   ]
  },
  {
   "cell_type": "markdown",
   "id": "bc1a0388",
   "metadata": {},
   "source": [
    "Пропуски были в столбцах days_employed и total_income, скорее всего связаны с тем, что клиенты не оставляли свои данные о трудовом стаже и ежемесячном доходе. Учитывая одинаковое количество пропусков (2174) и что данные в обоих столбцах относятся к трудовой деятельности, предполагаю, заполнение одного столбца связано с другим. Например, если не указать данные в days_employed, total_income останется незаполненным автоматически."
   ]
  },
  {
   "cell_type": "markdown",
   "id": "3697d2a9",
   "metadata": {
    "deletable": false,
    "id": "3697d2a9"
   },
   "source": []
  },
  {
   "cell_type": "code",
   "execution_count": 32,
   "id": "c94695dc",
   "metadata": {},
   "outputs": [
    {
     "data": {
      "text/plain": [
       "2174"
      ]
     },
     "execution_count": 32,
     "metadata": {},
     "output_type": "execute_result"
    }
   ],
   "source": [
    "# Открываем исходную таблицу с необработанными пропусками:\n",
    "data_with_nan = pd.read_csv('https://code.s3.yandex.net/datasets/data.csv')\n",
    "# Проверяем количество строк, для которых есть пропуски и в 'days_employed', и в 'total_income':\n",
    "len(data_with_nan.loc[(data_with_nan['days_employed'].isna()) & (data_with_nan['total_income'].isna())])\n"
   ]
  },
  {
   "cell_type": "code",
   "execution_count": 27,
   "id": "c0024ff2",
   "metadata": {},
   "outputs": [
    {
     "data": {
      "text/plain": [
       "income_type\n",
       "госслужащий         147\n",
       "компаньон           508\n",
       "пенсионер           413\n",
       "предприниматель       1\n",
       "сотрудник          1105\n",
       "Name: income_type, dtype: int64"
      ]
     },
     "execution_count": 27,
     "metadata": {},
     "output_type": "execute_result"
    }
   ],
   "source": [
    "data_with_nan = data_with_nan.loc[(data_with_nan['days_employed'].isna()) & (data_with_nan['total_income'].isna())]\n",
    "data_with_nan.groupby('income_type')['income_type'].count()"
   ]
  },
  {
   "cell_type": "markdown",
   "id": "3137d257",
   "metadata": {
    "deletable": false,
    "editable": false,
    "id": "3137d257"
   },
   "source": [
    "#### 3.6 Объясните, почему заполнить пропуски медианным значением — лучшее решение для количественных переменных."
   ]
  },
  {
   "cell_type": "markdown",
   "id": "cf40012a",
   "metadata": {
    "deletable": false,
    "id": "cf40012a"
   },
   "source": [
    "Данные распределены несимметрично, т.е. в данных имеются экстремально высокие и низкие значения. В таких случаях медиана дает более реалистичную оценку центрального значения, чем среднее арифметическое, которое будет зависеть от этих экстремальных значений."
   ]
  },
  {
   "cell_type": "markdown",
   "id": "57bc304e",
   "metadata": {
    "deletable": false,
    "editable": false,
    "id": "57bc304e"
   },
   "source": [
    "### Шаг 4: общий вывод."
   ]
  },
  {
   "cell_type": "markdown",
   "id": "1ab75d1c",
   "metadata": {
    "deletable": false,
    "id": "1ab75d1c"
   },
   "source": [
    "Итоги по выдвинутым гипотезам:\n",
    "\n",
    "**Зависимость от количества детей:**\n",
    "\n",
    "клиенты без детей выплачивают кредит лучше, чем те, у которых дети есть\n"
   ]
  },
  {
   "cell_type": "code",
   "execution_count": 35,
   "id": "bb8089b6",
   "metadata": {
    "scrolled": false
   },
   "outputs": [
    {
     "data": {
      "image/png": "[encoded data removed]",
      "text/plain": [
       "<Figure size 640x480 with 1 Axes>"
      ]
     },
     "metadata": {},
     "output_type": "display_data"
    }
   ],
   "source": [
    "sns.barplot(x=data_children_pivot['ratio'], y=data_children_pivot.index, orient='h', \\\n",
    "             order=data_children_pivot.sort_values('ratio').index, hue=data_children_pivot['debt_category']);\n"
   ]
  },
  {
   "cell_type": "markdown",
   "id": "272f8772",
   "metadata": {},
   "source": [
    "**Зависимость от семейного положения:**\n",
    "\n",
    "женатые, разведенные и овдовевшие клиенты выплачивают кредит лучше, чем заемщики не состоящие и не состоявшие в браке\n",
    "\n",
    "\n"
   ]
  },
  {
   "cell_type": "code",
   "execution_count": 29,
   "id": "96b3c66d",
   "metadata": {
    "scrolled": false
   },
   "outputs": [
    {
     "data": {
      "image/png": "[encoded data removed]",
      "text/plain": [
       "<Figure size 640x480 with 1 Axes>"
      ]
     },
     "metadata": {},
     "output_type": "display_data"
    }
   ],
   "source": [
    "sns.barplot(x=data_fam_status_pivot['ratio'], y=data_fam_status_pivot.index, orient='h', \\\n",
    "            order=data_fam_status_pivot.sort_values('ratio').index, hue=data_fam_status_pivot['debt_category']);"
   ]
  },
  {
   "cell_type": "markdown",
   "id": "7b5acaf6",
   "metadata": {},
   "source": [
    "**Зависимость от уровня дохода**:\n",
    "\n",
    "самые ненадежные плательщики имеют либо низкий доход (<30.000), либо средний (50.000-200.000). Лучше всех выплачивают кредиты заемщики с высоким (>1.000.000), выше среднего (200.001–1.000.000) и ниже среднего (30.001–50.000) уровнями дохода\n"
   ]
  },
  {
   "cell_type": "code",
   "execution_count": 33,
   "id": "b1287553",
   "metadata": {},
   "outputs": [
    {
     "data": {
      "image/png": "[encoded data removed]",
      "text/plain": [
       "<Figure size 640x480 with 1 Axes>"
      ]
     },
     "metadata": {},
     "output_type": "display_data"
    }
   ],
   "source": [
    "sns.barplot(x=data_income_category_pivot['ratio'], y=data_income_category_pivot.index, orient='h', \\\n",
    "            order=data_income_category_pivot.sort_values('ratio').index, hue=data_income_category_pivot['debt_category']);"
   ]
  },
  {
   "cell_type": "markdown",
   "id": "00a23896",
   "metadata": {},
   "source": [
    "**Зависимость от цели кредита:**\n",
    "\n",
    "кредиты, оформленные на операции с недвижимостью и проведение свадьбы, выплачиваются чаще, чем кредиты на операции с автомобилем и получение образования. Есть связь с суммой кредита - чем выше сумма, тем меньше процент невыплат.\n",
    "\n"
   ]
  },
  {
   "cell_type": "code",
   "execution_count": 34,
   "id": "cd16ed43",
   "metadata": {},
   "outputs": [
    {
     "data": {
      "image/png": "[encoded data removed]",
      "text/plain": [
       "<Figure size 640x480 with 1 Axes>"
      ]
     },
     "metadata": {},
     "output_type": "display_data"
    }
   ],
   "source": [
    "sns.barplot(x=data_purpose_pivot['ratio'], y=data_purpose_pivot.index, orient='h', \\\n",
    "            order=data_purpose_pivot.sort_values('ratio').index, hue=data_purpose_pivot['debt_category']);"
   ]
  }
 ],
 "metadata": {
  "ExecuteTimeLog": [
   {
    "duration": 18,
    "start_time": "2023-01-12T18:07:37.732Z"
   },
   {
    "duration": 78,
    "start_time": "2023-01-12T18:33:25.796Z"
   },
   {
    "duration": 13,
    "start_time": "2023-01-12T18:33:42.193Z"
   },
   {
    "duration": 467,
    "start_time": "2023-01-12T18:34:24.168Z"
   },
   {
    "duration": 20,
    "start_time": "2023-01-12T18:34:24.637Z"
   },
   {
    "duration": 21,
    "start_time": "2023-01-12T18:34:24.658Z"
   },
   {
    "duration": 36,
    "start_time": "2023-01-12T18:34:24.680Z"
   },
   {
    "duration": 62,
    "start_time": "2023-01-12T18:34:24.718Z"
   },
   {
    "duration": 3,
    "start_time": "2023-01-12T18:34:24.782Z"
   },
   {
    "duration": 31,
    "start_time": "2023-01-12T18:34:24.787Z"
   },
   {
    "duration": 33,
    "start_time": "2023-01-12T18:34:24.819Z"
   },
   {
    "duration": 30,
    "start_time": "2023-01-12T18:34:24.854Z"
   },
   {
    "duration": 22,
    "start_time": "2023-01-12T18:34:24.885Z"
   },
   {
    "duration": 45,
    "start_time": "2023-01-12T18:34:24.909Z"
   },
   {
    "duration": 9,
    "start_time": "2023-01-12T18:34:24.955Z"
   },
   {
    "duration": 44,
    "start_time": "2023-01-12T18:34:24.965Z"
   },
   {
    "duration": 46,
    "start_time": "2023-01-12T18:34:25.013Z"
   },
   {
    "duration": 31,
    "start_time": "2023-01-12T18:34:25.061Z"
   },
   {
    "duration": 32,
    "start_time": "2023-01-12T18:34:25.094Z"
   },
   {
    "duration": 7,
    "start_time": "2023-01-12T18:34:25.128Z"
   },
   {
    "duration": 33,
    "start_time": "2023-01-12T18:34:25.136Z"
   },
   {
    "duration": 20,
    "start_time": "2023-01-12T18:34:25.171Z"
   },
   {
    "duration": 8,
    "start_time": "2023-01-12T18:34:25.192Z"
   },
   {
    "duration": 28,
    "start_time": "2023-01-12T18:34:25.201Z"
   },
   {
    "duration": 27,
    "start_time": "2023-01-12T18:34:25.231Z"
   },
   {
    "duration": 40,
    "start_time": "2023-01-12T18:34:25.260Z"
   },
   {
    "duration": 9,
    "start_time": "2023-01-12T18:34:25.302Z"
   },
   {
    "duration": 32,
    "start_time": "2023-01-12T18:34:25.312Z"
   },
   {
    "duration": 11,
    "start_time": "2023-01-12T18:35:27.724Z"
   },
   {
    "duration": 11,
    "start_time": "2023-01-12T18:35:30.646Z"
   },
   {
    "duration": 84,
    "start_time": "2023-01-12T18:37:01.807Z"
   },
   {
    "duration": 72,
    "start_time": "2023-01-12T18:37:14.712Z"
   },
   {
    "duration": 75,
    "start_time": "2023-01-12T18:37:42.279Z"
   },
   {
    "duration": 73,
    "start_time": "2023-01-12T18:37:54.035Z"
   },
   {
    "duration": 71,
    "start_time": "2023-01-12T18:38:00.306Z"
   },
   {
    "duration": 81,
    "start_time": "2023-01-12T18:38:29.836Z"
   },
   {
    "duration": 68,
    "start_time": "2023-01-12T18:38:38.629Z"
   },
   {
    "duration": 87,
    "start_time": "2023-01-12T18:42:09.964Z"
   },
   {
    "duration": 71,
    "start_time": "2023-01-12T18:42:13.480Z"
   },
   {
    "duration": 17,
    "start_time": "2023-01-12T18:42:38.707Z"
   },
   {
    "duration": 30,
    "start_time": "2023-01-12T18:48:37.094Z"
   },
   {
    "duration": 16,
    "start_time": "2023-01-12T18:49:16.272Z"
   },
   {
    "duration": 18,
    "start_time": "2023-01-12T18:50:56.093Z"
   },
   {
    "duration": 21,
    "start_time": "2023-01-12T18:59:07.300Z"
   },
   {
    "duration": 18,
    "start_time": "2023-01-12T18:59:16.448Z"
   },
   {
    "duration": 72,
    "start_time": "2023-01-12T19:02:40.782Z"
   },
   {
    "duration": 20,
    "start_time": "2023-01-12T19:03:30.571Z"
   },
   {
    "duration": 73,
    "start_time": "2023-01-12T19:04:56.551Z"
   },
   {
    "duration": 18,
    "start_time": "2023-01-12T19:05:52.368Z"
   },
   {
    "duration": 20,
    "start_time": "2023-01-12T19:12:42.773Z"
   },
   {
    "duration": 15,
    "start_time": "2023-01-12T19:13:02.877Z"
   },
   {
    "duration": 23,
    "start_time": "2023-01-12T19:14:07.049Z"
   },
   {
    "duration": 20,
    "start_time": "2023-01-12T19:15:40.795Z"
   },
   {
    "duration": 27,
    "start_time": "2023-01-12T19:16:49.051Z"
   },
   {
    "duration": 24,
    "start_time": "2023-01-12T19:17:27.556Z"
   },
   {
    "duration": 22,
    "start_time": "2023-01-12T19:17:31.711Z"
   },
   {
    "duration": 20,
    "start_time": "2023-01-12T19:18:28.631Z"
   },
   {
    "duration": 26,
    "start_time": "2023-01-12T19:18:45.066Z"
   },
   {
    "duration": 30,
    "start_time": "2023-01-12T19:19:42.381Z"
   },
   {
    "duration": 23,
    "start_time": "2023-01-12T19:19:55.628Z"
   },
   {
    "duration": 20,
    "start_time": "2023-01-12T19:20:09.746Z"
   },
   {
    "duration": 24,
    "start_time": "2023-01-12T19:22:05.049Z"
   },
   {
    "duration": 14,
    "start_time": "2023-01-12T19:22:44.494Z"
   },
   {
    "duration": 14,
    "start_time": "2023-01-12T19:23:17.771Z"
   },
   {
    "duration": 16,
    "start_time": "2023-01-12T19:23:24.936Z"
   },
   {
    "duration": 22,
    "start_time": "2023-01-12T19:23:46.006Z"
   },
   {
    "duration": 50,
    "start_time": "2023-01-13T07:23:55.938Z"
   },
   {
    "duration": 8,
    "start_time": "2023-01-13T07:23:58.967Z"
   },
   {
    "duration": 531,
    "start_time": "2023-01-13T07:24:05.795Z"
   },
   {
    "duration": 23,
    "start_time": "2023-01-13T07:24:06.328Z"
   },
   {
    "duration": 33,
    "start_time": "2023-01-13T07:24:06.352Z"
   },
   {
    "duration": 19,
    "start_time": "2023-01-13T07:24:06.387Z"
   },
   {
    "duration": 37,
    "start_time": "2023-01-13T07:24:06.408Z"
   },
   {
    "duration": 3,
    "start_time": "2023-01-13T07:24:06.447Z"
   },
   {
    "duration": 13,
    "start_time": "2023-01-13T07:24:06.452Z"
   },
   {
    "duration": 5,
    "start_time": "2023-01-13T07:24:06.466Z"
   },
   {
    "duration": 8,
    "start_time": "2023-01-13T07:24:06.472Z"
   },
   {
    "duration": 4,
    "start_time": "2023-01-13T07:24:06.482Z"
   },
   {
    "duration": 53,
    "start_time": "2023-01-13T07:24:06.488Z"
   },
   {
    "duration": 11,
    "start_time": "2023-01-13T07:24:06.543Z"
   },
   {
    "duration": 8,
    "start_time": "2023-01-13T07:24:06.555Z"
   },
   {
    "duration": 17,
    "start_time": "2023-01-13T07:24:06.564Z"
   },
   {
    "duration": 23,
    "start_time": "2023-01-13T07:24:06.583Z"
   },
   {
    "duration": 35,
    "start_time": "2023-01-13T07:24:06.608Z"
   },
   {
    "duration": 3,
    "start_time": "2023-01-13T07:24:06.645Z"
   },
   {
    "duration": 14,
    "start_time": "2023-01-13T07:24:06.650Z"
   },
   {
    "duration": 5,
    "start_time": "2023-01-13T07:24:06.666Z"
   },
   {
    "duration": 9,
    "start_time": "2023-01-13T07:24:06.673Z"
   },
   {
    "duration": 14,
    "start_time": "2023-01-13T07:24:06.684Z"
   },
   {
    "duration": 45,
    "start_time": "2023-01-13T07:24:06.699Z"
   },
   {
    "duration": 21,
    "start_time": "2023-01-13T07:24:06.745Z"
   },
   {
    "duration": 20,
    "start_time": "2023-01-13T07:24:06.768Z"
   },
   {
    "duration": 22,
    "start_time": "2023-01-13T07:24:06.790Z"
   },
   {
    "duration": 2212,
    "start_time": "2023-01-13T07:29:30.351Z"
   },
   {
    "duration": 24,
    "start_time": "2023-01-13T07:29:40.944Z"
   },
   {
    "duration": 21,
    "start_time": "2023-01-13T07:33:27.240Z"
   },
   {
    "duration": 75,
    "start_time": "2023-01-13T07:37:35.962Z"
   },
   {
    "duration": 25,
    "start_time": "2023-01-13T07:37:46.151Z"
   },
   {
    "duration": 83,
    "start_time": "2023-01-13T07:39:03.680Z"
   },
   {
    "duration": 26,
    "start_time": "2023-01-13T07:39:18.607Z"
   },
   {
    "duration": 24,
    "start_time": "2023-01-13T07:39:44.264Z"
   },
   {
    "duration": 26,
    "start_time": "2023-01-13T07:41:47.966Z"
   },
   {
    "duration": 24,
    "start_time": "2023-01-13T07:41:49.593Z"
   },
   {
    "duration": 20,
    "start_time": "2023-01-13T07:42:26.274Z"
   },
   {
    "duration": 26,
    "start_time": "2023-01-13T07:44:44.384Z"
   },
   {
    "duration": 21,
    "start_time": "2023-01-13T07:45:52.911Z"
   },
   {
    "duration": 21,
    "start_time": "2023-01-13T07:46:04.341Z"
   },
   {
    "duration": 31,
    "start_time": "2023-01-13T07:46:51.369Z"
   },
   {
    "duration": 23,
    "start_time": "2023-01-13T07:47:29.316Z"
   },
   {
    "duration": 23,
    "start_time": "2023-01-13T07:47:41.294Z"
   },
   {
    "duration": 23,
    "start_time": "2023-01-13T07:49:26.739Z"
   },
   {
    "duration": 33,
    "start_time": "2023-01-13T08:13:16.929Z"
   },
   {
    "duration": 30,
    "start_time": "2023-01-13T08:15:11.158Z"
   },
   {
    "duration": 28,
    "start_time": "2023-01-13T08:15:46.272Z"
   },
   {
    "duration": 22,
    "start_time": "2023-01-13T08:16:13.995Z"
   },
   {
    "duration": 26,
    "start_time": "2023-01-13T08:16:42.523Z"
   },
   {
    "duration": 24,
    "start_time": "2023-01-13T08:31:08.123Z"
   },
   {
    "duration": 25,
    "start_time": "2023-01-13T08:39:39.695Z"
   },
   {
    "duration": 23,
    "start_time": "2023-01-13T10:01:32.411Z"
   },
   {
    "duration": 32,
    "start_time": "2023-01-13T10:05:49.067Z"
   },
   {
    "duration": 24,
    "start_time": "2023-01-13T10:11:02.307Z"
   },
   {
    "duration": 25,
    "start_time": "2023-01-13T10:15:36.579Z"
   },
   {
    "duration": 24,
    "start_time": "2023-01-13T10:31:50.255Z"
   },
   {
    "duration": 22,
    "start_time": "2023-01-13T10:32:06.856Z"
   },
   {
    "duration": 26,
    "start_time": "2023-01-13T10:32:24.800Z"
   },
   {
    "duration": 31,
    "start_time": "2023-01-13T10:32:29.928Z"
   },
   {
    "duration": 26,
    "start_time": "2023-01-13T10:32:47.078Z"
   },
   {
    "duration": 24,
    "start_time": "2023-01-13T10:33:32.457Z"
   },
   {
    "duration": 572,
    "start_time": "2023-01-13T15:44:36.497Z"
   },
   {
    "duration": 23,
    "start_time": "2023-01-13T15:44:37.071Z"
   },
   {
    "duration": 15,
    "start_time": "2023-01-13T15:44:37.095Z"
   },
   {
    "duration": 11,
    "start_time": "2023-01-13T15:44:37.113Z"
   },
   {
    "duration": 44,
    "start_time": "2023-01-13T15:44:37.126Z"
   },
   {
    "duration": 3,
    "start_time": "2023-01-13T15:44:37.172Z"
   },
   {
    "duration": 14,
    "start_time": "2023-01-13T15:44:37.177Z"
   },
   {
    "duration": 7,
    "start_time": "2023-01-13T15:44:37.193Z"
   },
   {
    "duration": 13,
    "start_time": "2023-01-13T15:44:37.202Z"
   },
   {
    "duration": 11,
    "start_time": "2023-01-13T15:44:37.218Z"
   },
   {
    "duration": 37,
    "start_time": "2023-01-13T15:44:37.231Z"
   },
   {
    "duration": 10,
    "start_time": "2023-01-13T15:44:37.270Z"
   },
   {
    "duration": 3,
    "start_time": "2023-01-13T15:44:37.282Z"
   },
   {
    "duration": 28,
    "start_time": "2023-01-13T15:44:37.287Z"
   },
   {
    "duration": 44,
    "start_time": "2023-01-13T15:44:37.317Z"
   },
   {
    "duration": 19,
    "start_time": "2023-01-13T15:44:37.362Z"
   },
   {
    "duration": 5,
    "start_time": "2023-01-13T15:44:37.382Z"
   },
   {
    "duration": 33,
    "start_time": "2023-01-13T15:44:37.389Z"
   },
   {
    "duration": 16,
    "start_time": "2023-01-13T15:44:37.424Z"
   },
   {
    "duration": 8,
    "start_time": "2023-01-13T15:44:37.441Z"
   },
   {
    "duration": 20,
    "start_time": "2023-01-13T15:44:37.451Z"
   },
   {
    "duration": 30,
    "start_time": "2023-01-13T15:44:37.473Z"
   },
   {
    "duration": 27,
    "start_time": "2023-01-13T15:44:37.505Z"
   },
   {
    "duration": 26,
    "start_time": "2023-01-13T15:44:37.533Z"
   },
   {
    "duration": 23,
    "start_time": "2023-01-13T15:44:37.561Z"
   },
   {
    "duration": 48,
    "start_time": "2023-01-13T16:19:51.840Z"
   },
   {
    "duration": 8,
    "start_time": "2023-01-13T16:19:54.689Z"
   },
   {
    "duration": 528,
    "start_time": "2023-01-13T16:20:07.971Z"
   },
   {
    "duration": 20,
    "start_time": "2023-01-13T16:20:08.501Z"
   },
   {
    "duration": 14,
    "start_time": "2023-01-13T16:20:08.523Z"
   },
   {
    "duration": 10,
    "start_time": "2023-01-13T16:20:08.540Z"
   },
   {
    "duration": 37,
    "start_time": "2023-01-13T16:20:08.552Z"
   },
   {
    "duration": 4,
    "start_time": "2023-01-13T16:20:08.591Z"
   },
   {
    "duration": 9,
    "start_time": "2023-01-13T16:20:08.597Z"
   },
   {
    "duration": 5,
    "start_time": "2023-01-13T16:20:08.608Z"
   },
   {
    "duration": 11,
    "start_time": "2023-01-13T16:20:08.614Z"
   },
   {
    "duration": 6,
    "start_time": "2023-01-13T16:20:08.629Z"
   },
   {
    "duration": 60,
    "start_time": "2023-01-13T16:20:08.636Z"
   },
   {
    "duration": 10,
    "start_time": "2023-01-13T16:20:08.697Z"
   },
   {
    "duration": 6,
    "start_time": "2023-01-13T16:20:08.708Z"
   },
   {
    "duration": 13,
    "start_time": "2023-01-13T16:20:08.715Z"
   },
   {
    "duration": 19,
    "start_time": "2023-01-13T16:20:08.730Z"
   },
   {
    "duration": 34,
    "start_time": "2023-01-13T16:20:08.751Z"
   },
   {
    "duration": 4,
    "start_time": "2023-01-13T16:20:08.787Z"
   },
   {
    "duration": 11,
    "start_time": "2023-01-13T16:20:08.792Z"
   },
   {
    "duration": 7,
    "start_time": "2023-01-13T16:20:08.805Z"
   },
   {
    "duration": 3,
    "start_time": "2023-01-13T16:20:08.813Z"
   },
   {
    "duration": 10,
    "start_time": "2023-01-13T16:20:08.818Z"
   },
   {
    "duration": 56,
    "start_time": "2023-01-13T16:20:08.829Z"
   },
   {
    "duration": 23,
    "start_time": "2023-01-13T16:20:08.886Z"
   },
   {
    "duration": 21,
    "start_time": "2023-01-13T16:20:08.910Z"
   },
   {
    "duration": 22,
    "start_time": "2023-01-13T16:20:08.932Z"
   },
   {
    "duration": 86,
    "start_time": "2023-01-13T16:39:09.339Z"
   },
   {
    "duration": 75,
    "start_time": "2023-01-13T16:39:16.877Z"
   },
   {
    "duration": 1055,
    "start_time": "2023-01-13T16:39:25.454Z"
   },
   {
    "duration": 1188,
    "start_time": "2023-01-13T16:39:33.624Z"
   },
   {
    "duration": 21,
    "start_time": "2023-01-13T16:40:02.367Z"
   },
   {
    "duration": 31,
    "start_time": "2023-01-13T16:40:24.750Z"
   },
   {
    "duration": 1129,
    "start_time": "2023-01-13T16:40:51.414Z"
   },
   {
    "duration": 1131,
    "start_time": "2023-01-13T16:40:52.721Z"
   },
   {
    "duration": 1111,
    "start_time": "2023-01-13T16:40:58.230Z"
   },
   {
    "duration": 135,
    "start_time": "2023-01-13T16:43:32.214Z"
   },
   {
    "duration": 100,
    "start_time": "2023-01-13T16:43:57.171Z"
   },
   {
    "duration": 23,
    "start_time": "2023-01-13T16:45:00.265Z"
   },
   {
    "duration": 27,
    "start_time": "2023-01-13T16:46:58.380Z"
   },
   {
    "duration": 23,
    "start_time": "2023-01-13T16:48:18.082Z"
   },
   {
    "duration": 1156,
    "start_time": "2023-01-13T16:55:17.211Z"
   },
   {
    "duration": 1115,
    "start_time": "2023-01-13T16:55:32.726Z"
   },
   {
    "duration": 21,
    "start_time": "2023-01-13T16:55:54.559Z"
   },
   {
    "duration": 21,
    "start_time": "2023-01-13T16:56:00.805Z"
   },
   {
    "duration": 142,
    "start_time": "2023-01-13T16:56:05.074Z"
   },
   {
    "duration": 37,
    "start_time": "2023-01-13T16:56:39.706Z"
   },
   {
    "duration": 23,
    "start_time": "2023-01-13T16:56:49.796Z"
   },
   {
    "duration": 25,
    "start_time": "2023-01-13T16:57:28.194Z"
   },
   {
    "duration": 27,
    "start_time": "2023-01-13T16:57:44.405Z"
   },
   {
    "duration": 139,
    "start_time": "2023-01-13T16:57:57.637Z"
   },
   {
    "duration": 22,
    "start_time": "2023-01-13T16:58:24.956Z"
   },
   {
    "duration": 23,
    "start_time": "2023-01-13T16:58:35.801Z"
   },
   {
    "duration": 138,
    "start_time": "2023-01-13T16:58:45.101Z"
   },
   {
    "duration": 110,
    "start_time": "2023-01-13T16:59:08.735Z"
   },
   {
    "duration": 143,
    "start_time": "2023-01-13T16:59:32.928Z"
   },
   {
    "duration": 222,
    "start_time": "2023-01-13T17:00:25.726Z"
   },
   {
    "duration": 1408,
    "start_time": "2023-01-13T17:00:58.910Z"
   },
   {
    "duration": 36,
    "start_time": "2023-01-13T17:02:21.075Z"
   },
   {
    "duration": 28,
    "start_time": "2023-01-13T17:06:48.484Z"
   },
   {
    "duration": 87,
    "start_time": "2023-01-13T17:07:33.659Z"
   },
   {
    "duration": 93,
    "start_time": "2023-01-13T17:07:38.221Z"
   },
   {
    "duration": 1132,
    "start_time": "2023-01-13T17:07:44.414Z"
   },
   {
    "duration": 22,
    "start_time": "2023-01-13T17:09:40.441Z"
   },
   {
    "duration": 24,
    "start_time": "2023-01-13T17:09:52.663Z"
   },
   {
    "duration": 146,
    "start_time": "2023-01-13T17:11:09.023Z"
   },
   {
    "duration": 134,
    "start_time": "2023-01-13T17:11:36.912Z"
   },
   {
    "duration": 119,
    "start_time": "2023-01-13T17:12:33.162Z"
   },
   {
    "duration": 23,
    "start_time": "2023-01-13T17:14:09.912Z"
   },
   {
    "duration": 31,
    "start_time": "2023-01-13T17:14:57.841Z"
   },
   {
    "duration": 126,
    "start_time": "2023-01-13T17:15:05.785Z"
   },
   {
    "duration": 132,
    "start_time": "2023-01-13T17:17:00.264Z"
   },
   {
    "duration": 122,
    "start_time": "2023-01-13T17:17:55.249Z"
   },
   {
    "duration": 126,
    "start_time": "2023-01-13T17:22:59.090Z"
   },
   {
    "duration": 21,
    "start_time": "2023-01-13T17:23:14.226Z"
   },
   {
    "duration": 120,
    "start_time": "2023-01-13T17:23:47.818Z"
   },
   {
    "duration": 126,
    "start_time": "2023-01-13T17:25:29.490Z"
   },
   {
    "duration": 104,
    "start_time": "2023-01-13T17:25:54.549Z"
   },
   {
    "duration": 9,
    "start_time": "2023-01-13T17:27:02.389Z"
   },
   {
    "duration": 9,
    "start_time": "2023-01-13T17:27:05.172Z"
   },
   {
    "duration": 10,
    "start_time": "2023-01-13T17:27:08.451Z"
   },
   {
    "duration": 12,
    "start_time": "2023-01-13T17:27:42.881Z"
   },
   {
    "duration": 9,
    "start_time": "2023-01-13T17:27:45.469Z"
   },
   {
    "duration": 202,
    "start_time": "2023-01-13T17:28:07.210Z"
   },
   {
    "duration": 114,
    "start_time": "2023-01-13T17:28:19.372Z"
   },
   {
    "duration": 22,
    "start_time": "2023-01-13T17:33:10.627Z"
   },
   {
    "duration": 114,
    "start_time": "2023-01-13T17:33:27.646Z"
   },
   {
    "duration": 25,
    "start_time": "2023-01-13T17:33:53.253Z"
   },
   {
    "duration": 15,
    "start_time": "2023-01-13T17:34:19.527Z"
   },
   {
    "duration": 124,
    "start_time": "2023-01-13T17:34:50.149Z"
   },
   {
    "duration": 16,
    "start_time": "2023-01-13T17:47:34.232Z"
   },
   {
    "duration": 19,
    "start_time": "2023-01-13T17:48:09.681Z"
   },
   {
    "duration": 124,
    "start_time": "2023-01-13T17:49:01.180Z"
   },
   {
    "duration": 71,
    "start_time": "2023-01-13T17:50:47.887Z"
   },
   {
    "duration": 152,
    "start_time": "2023-01-13T17:51:04.018Z"
   },
   {
    "duration": 20,
    "start_time": "2023-01-13T17:52:54.252Z"
   },
   {
    "duration": 94,
    "start_time": "2023-01-13T17:54:02.432Z"
   },
   {
    "duration": 287,
    "start_time": "2023-01-13T17:54:06.166Z"
   },
   {
    "duration": 171,
    "start_time": "2023-01-13T17:55:11.871Z"
   },
   {
    "duration": 175,
    "start_time": "2023-01-13T17:55:39.755Z"
   },
   {
    "duration": 22,
    "start_time": "2023-01-13T17:57:04.018Z"
   },
   {
    "duration": 17,
    "start_time": "2023-01-13T17:57:21.054Z"
   },
   {
    "duration": 12,
    "start_time": "2023-01-13T17:57:39.090Z"
   },
   {
    "duration": 24,
    "start_time": "2023-01-13T17:59:07.080Z"
   },
   {
    "duration": 14,
    "start_time": "2023-01-13T17:59:55.972Z"
   },
   {
    "duration": 18,
    "start_time": "2023-01-13T18:00:01.352Z"
   },
   {
    "duration": 20,
    "start_time": "2023-01-13T18:00:29.436Z"
   },
   {
    "duration": 20,
    "start_time": "2023-01-13T18:00:37.889Z"
   },
   {
    "duration": 1298,
    "start_time": "2023-01-13T18:00:46.693Z"
   },
   {
    "duration": 21,
    "start_time": "2023-01-13T18:00:47.993Z"
   },
   {
    "duration": 120,
    "start_time": "2023-01-13T18:00:48.016Z"
   },
   {
    "duration": 27,
    "start_time": "2023-01-13T18:00:48.138Z"
   },
   {
    "duration": 49,
    "start_time": "2023-01-13T18:00:48.166Z"
   },
   {
    "duration": 4,
    "start_time": "2023-01-13T18:00:48.217Z"
   },
   {
    "duration": 21,
    "start_time": "2023-01-13T18:00:48.223Z"
   },
   {
    "duration": 8,
    "start_time": "2023-01-13T18:00:48.246Z"
   },
   {
    "duration": 38,
    "start_time": "2023-01-13T18:00:48.255Z"
   },
   {
    "duration": 5,
    "start_time": "2023-01-13T18:00:48.298Z"
   },
   {
    "duration": 55,
    "start_time": "2023-01-13T18:00:48.305Z"
   },
   {
    "duration": 11,
    "start_time": "2023-01-13T18:00:48.362Z"
   },
   {
    "duration": 7,
    "start_time": "2023-01-13T18:00:48.375Z"
   },
   {
    "duration": 19,
    "start_time": "2023-01-13T18:00:48.385Z"
   },
   {
    "duration": 29,
    "start_time": "2023-01-13T18:00:48.406Z"
   },
   {
    "duration": 18,
    "start_time": "2023-01-13T18:00:48.437Z"
   },
   {
    "duration": 3,
    "start_time": "2023-01-13T18:00:48.457Z"
   },
   {
    "duration": 15,
    "start_time": "2023-01-13T18:00:48.478Z"
   },
   {
    "duration": 15,
    "start_time": "2023-01-13T18:00:48.494Z"
   },
   {
    "duration": 6,
    "start_time": "2023-01-13T18:00:48.512Z"
   },
   {
    "duration": 17,
    "start_time": "2023-01-13T18:00:48.520Z"
   },
   {
    "duration": 54,
    "start_time": "2023-01-13T18:00:48.539Z"
   },
   {
    "duration": 29,
    "start_time": "2023-01-13T18:00:48.594Z"
   },
   {
    "duration": 23,
    "start_time": "2023-01-13T18:00:48.624Z"
   },
   {
    "duration": 48,
    "start_time": "2023-01-13T18:00:48.648Z"
   },
   {
    "duration": 155,
    "start_time": "2023-01-13T18:00:48.698Z"
   },
   {
    "duration": 147,
    "start_time": "2023-01-13T18:01:11.376Z"
   },
   {
    "duration": 118,
    "start_time": "2023-01-13T18:01:30.693Z"
   },
   {
    "duration": 112,
    "start_time": "2023-01-13T18:02:26.633Z"
   },
   {
    "duration": 122,
    "start_time": "2023-01-13T18:02:47.078Z"
   },
   {
    "duration": 143,
    "start_time": "2023-01-13T18:03:06.525Z"
   },
   {
    "duration": 105,
    "start_time": "2023-01-13T18:03:46.578Z"
   },
   {
    "duration": 118,
    "start_time": "2023-01-13T18:03:55.387Z"
   },
   {
    "duration": 129,
    "start_time": "2023-01-13T18:04:07.165Z"
   },
   {
    "duration": 117,
    "start_time": "2023-01-13T18:04:26.532Z"
   },
   {
    "duration": 1206,
    "start_time": "2023-01-13T18:04:43.326Z"
   },
   {
    "duration": 18,
    "start_time": "2023-01-13T18:04:49.435Z"
   },
   {
    "duration": 9,
    "start_time": "2023-01-13T18:04:58.569Z"
   },
   {
    "duration": 1163,
    "start_time": "2023-01-13T18:05:38.510Z"
   },
   {
    "duration": 20,
    "start_time": "2023-01-13T18:05:39.675Z"
   },
   {
    "duration": 15,
    "start_time": "2023-01-13T18:05:39.697Z"
   },
   {
    "duration": 11,
    "start_time": "2023-01-13T18:05:39.714Z"
   },
   {
    "duration": 54,
    "start_time": "2023-01-13T18:05:39.727Z"
   },
   {
    "duration": 5,
    "start_time": "2023-01-13T18:05:39.782Z"
   },
   {
    "duration": 12,
    "start_time": "2023-01-13T18:05:39.788Z"
   },
   {
    "duration": 4,
    "start_time": "2023-01-13T18:05:39.802Z"
   },
   {
    "duration": 7,
    "start_time": "2023-01-13T18:05:39.807Z"
   },
   {
    "duration": 4,
    "start_time": "2023-01-13T18:05:39.817Z"
   },
   {
    "duration": 63,
    "start_time": "2023-01-13T18:05:39.823Z"
   },
   {
    "duration": 13,
    "start_time": "2023-01-13T18:05:39.888Z"
   },
   {
    "duration": 4,
    "start_time": "2023-01-13T18:05:39.903Z"
   },
   {
    "duration": 17,
    "start_time": "2023-01-13T18:05:39.908Z"
   },
   {
    "duration": 22,
    "start_time": "2023-01-13T18:05:39.927Z"
   },
   {
    "duration": 45,
    "start_time": "2023-01-13T18:05:39.950Z"
   },
   {
    "duration": 5,
    "start_time": "2023-01-13T18:05:39.997Z"
   },
   {
    "duration": 15,
    "start_time": "2023-01-13T18:05:40.004Z"
   },
   {
    "duration": 19,
    "start_time": "2023-01-13T18:05:40.021Z"
   },
   {
    "duration": 5,
    "start_time": "2023-01-13T18:05:40.042Z"
   },
   {
    "duration": 31,
    "start_time": "2023-01-13T18:05:40.050Z"
   },
   {
    "duration": 31,
    "start_time": "2023-01-13T18:05:40.083Z"
   },
   {
    "duration": 24,
    "start_time": "2023-01-13T18:05:40.115Z"
   },
   {
    "duration": 40,
    "start_time": "2023-01-13T18:05:40.141Z"
   },
   {
    "duration": 37,
    "start_time": "2023-01-13T18:05:40.183Z"
   },
   {
    "duration": 113,
    "start_time": "2023-01-13T18:05:40.221Z"
   },
   {
    "duration": 1193,
    "start_time": "2023-01-13T18:06:06.426Z"
   },
   {
    "duration": 1090,
    "start_time": "2023-01-13T18:06:09.235Z"
   },
   {
    "duration": 126,
    "start_time": "2023-01-13T18:06:15.226Z"
   },
   {
    "duration": 142,
    "start_time": "2023-01-13T18:06:25.978Z"
   },
   {
    "duration": 119,
    "start_time": "2023-01-13T18:06:40.051Z"
   },
   {
    "duration": 162,
    "start_time": "2023-01-13T18:06:50.229Z"
   },
   {
    "duration": 138,
    "start_time": "2023-01-13T18:07:13.742Z"
   },
   {
    "duration": 119,
    "start_time": "2023-01-13T18:10:57.800Z"
   },
   {
    "duration": 9,
    "start_time": "2023-01-13T18:13:48.617Z"
   },
   {
    "duration": 124,
    "start_time": "2023-01-13T18:15:05.112Z"
   },
   {
    "duration": 128,
    "start_time": "2023-01-13T18:15:38.890Z"
   },
   {
    "duration": 122,
    "start_time": "2023-01-13T18:16:00.824Z"
   },
   {
    "duration": 265,
    "start_time": "2023-01-13T18:17:01.349Z"
   },
   {
    "duration": 21,
    "start_time": "2023-01-13T18:17:28.490Z"
   },
   {
    "duration": 18,
    "start_time": "2023-01-13T18:17:42.081Z"
   },
   {
    "duration": 230,
    "start_time": "2023-01-13T18:17:56.003Z"
   },
   {
    "duration": 186,
    "start_time": "2023-01-13T18:18:01.977Z"
   },
   {
    "duration": 30,
    "start_time": "2023-01-13T18:18:15.494Z"
   },
   {
    "duration": 179,
    "start_time": "2023-01-13T18:18:19.341Z"
   },
   {
    "duration": 206,
    "start_time": "2023-01-13T18:19:01.497Z"
   },
   {
    "duration": 216,
    "start_time": "2023-01-13T18:19:12.963Z"
   },
   {
    "duration": 186,
    "start_time": "2023-01-13T18:19:25.824Z"
   },
   {
    "duration": 125,
    "start_time": "2023-01-13T18:20:02.441Z"
   },
   {
    "duration": 71,
    "start_time": "2023-01-13T18:20:09.131Z"
   },
   {
    "duration": 68,
    "start_time": "2023-01-13T18:20:17.221Z"
   },
   {
    "duration": 71,
    "start_time": "2023-01-13T18:20:21.050Z"
   },
   {
    "duration": 20,
    "start_time": "2023-01-13T18:21:11.591Z"
   },
   {
    "duration": 180,
    "start_time": "2023-01-13T18:21:39.433Z"
   },
   {
    "duration": 22,
    "start_time": "2023-01-13T18:22:10.073Z"
   },
   {
    "duration": 187,
    "start_time": "2023-01-13T18:22:23.379Z"
   },
   {
    "duration": 205,
    "start_time": "2023-01-13T18:22:30.765Z"
   },
   {
    "duration": 218,
    "start_time": "2023-01-13T18:24:53.351Z"
   },
   {
    "duration": 319,
    "start_time": "2023-01-13T18:27:11.097Z"
   },
   {
    "duration": 90,
    "start_time": "2023-01-13T18:30:33.665Z"
   },
   {
    "duration": 208,
    "start_time": "2023-01-13T18:30:39.823Z"
   },
   {
    "duration": 275,
    "start_time": "2023-01-13T18:30:56.254Z"
   },
   {
    "duration": 245,
    "start_time": "2023-01-13T18:31:29.108Z"
   },
   {
    "duration": 20,
    "start_time": "2023-01-13T18:35:53.219Z"
   },
   {
    "duration": 186,
    "start_time": "2023-01-13T18:35:58.259Z"
   },
   {
    "duration": 163,
    "start_time": "2023-01-13T18:37:11.827Z"
   },
   {
    "duration": 183,
    "start_time": "2023-01-13T18:37:23.438Z"
   },
   {
    "duration": 229,
    "start_time": "2023-01-13T18:37:54.883Z"
   },
   {
    "duration": 13,
    "start_time": "2023-01-13T18:44:38.068Z"
   },
   {
    "duration": 262,
    "start_time": "2023-01-13T18:45:04.729Z"
   },
   {
    "duration": 4,
    "start_time": "2023-01-13T18:45:13.760Z"
   },
   {
    "duration": 288,
    "start_time": "2023-01-13T18:45:21.323Z"
   },
   {
    "duration": 237,
    "start_time": "2023-01-13T18:45:47.107Z"
   },
   {
    "duration": 26,
    "start_time": "2023-01-13T18:46:00.361Z"
   },
   {
    "duration": 279,
    "start_time": "2023-01-13T18:46:23.703Z"
   },
   {
    "duration": 226,
    "start_time": "2023-01-13T18:46:37.608Z"
   },
   {
    "duration": 349,
    "start_time": "2023-01-13T18:47:07.134Z"
   },
   {
    "duration": 207,
    "start_time": "2023-01-13T18:47:22.242Z"
   },
   {
    "duration": 120,
    "start_time": "2023-01-13T18:47:48.106Z"
   },
   {
    "duration": 275,
    "start_time": "2023-01-13T18:47:56.772Z"
   },
   {
    "duration": 290,
    "start_time": "2023-01-13T18:48:04.008Z"
   },
   {
    "duration": 1160,
    "start_time": "2023-01-13T18:54:51.554Z"
   },
   {
    "duration": 8,
    "start_time": "2023-01-13T18:55:02.539Z"
   },
   {
    "duration": 6,
    "start_time": "2023-01-13T18:55:26.232Z"
   },
   {
    "duration": 91,
    "start_time": "2023-01-13T18:55:59.871Z"
   },
   {
    "duration": 1164,
    "start_time": "2023-01-13T18:57:17.947Z"
   },
   {
    "duration": 7,
    "start_time": "2023-01-13T18:57:25.936Z"
   },
   {
    "duration": 6,
    "start_time": "2023-01-13T19:02:01.472Z"
   },
   {
    "duration": 13,
    "start_time": "2023-01-13T19:07:45.846Z"
   },
   {
    "duration": 10,
    "start_time": "2023-01-13T19:07:51.057Z"
   },
   {
    "duration": 12,
    "start_time": "2023-01-13T19:08:17.014Z"
   },
   {
    "duration": 19,
    "start_time": "2023-01-13T19:09:11.212Z"
   },
   {
    "duration": 15,
    "start_time": "2023-01-13T19:09:34.732Z"
   },
   {
    "duration": 8,
    "start_time": "2023-01-13T19:09:48.960Z"
   },
   {
    "duration": 174,
    "start_time": "2023-01-13T19:22:19.964Z"
   },
   {
    "duration": 319,
    "start_time": "2023-01-13T19:23:14.660Z"
   },
   {
    "duration": 242,
    "start_time": "2023-01-13T19:23:39.948Z"
   },
   {
    "duration": 234,
    "start_time": "2023-01-13T19:23:50.976Z"
   },
   {
    "duration": 199,
    "start_time": "2023-01-13T19:23:59.099Z"
   },
   {
    "duration": 173,
    "start_time": "2023-01-13T19:24:05.601Z"
   },
   {
    "duration": 241,
    "start_time": "2023-01-13T19:24:44.173Z"
   },
   {
    "duration": 314,
    "start_time": "2023-01-13T19:24:48.382Z"
   },
   {
    "duration": 231,
    "start_time": "2023-01-13T19:25:00.276Z"
   },
   {
    "duration": 202,
    "start_time": "2023-01-13T19:25:03.775Z"
   },
   {
    "duration": 158,
    "start_time": "2023-01-13T19:25:16.693Z"
   },
   {
    "duration": 175,
    "start_time": "2023-01-13T19:25:22.491Z"
   },
   {
    "duration": 231,
    "start_time": "2023-01-13T19:27:57.601Z"
   },
   {
    "duration": 7,
    "start_time": "2023-01-13T19:29:56.943Z"
   },
   {
    "duration": 13,
    "start_time": "2023-01-13T19:30:10.685Z"
   },
   {
    "duration": 17,
    "start_time": "2023-01-13T19:30:17.742Z"
   },
   {
    "duration": 6,
    "start_time": "2023-01-13T19:30:53.303Z"
   },
   {
    "duration": 6,
    "start_time": "2023-01-13T19:30:59.164Z"
   },
   {
    "duration": 82,
    "start_time": "2023-01-13T19:31:56.867Z"
   },
   {
    "duration": 6,
    "start_time": "2023-01-13T19:32:04.466Z"
   },
   {
    "duration": 13,
    "start_time": "2023-01-13T19:32:39.181Z"
   },
   {
    "duration": 13,
    "start_time": "2023-01-13T19:33:01.028Z"
   },
   {
    "duration": 10,
    "start_time": "2023-01-13T19:33:29.884Z"
   },
   {
    "duration": 5,
    "start_time": "2023-01-13T19:33:38.652Z"
   },
   {
    "duration": 9,
    "start_time": "2023-01-13T19:33:44.549Z"
   },
   {
    "duration": 10,
    "start_time": "2023-01-13T19:34:12.031Z"
   },
   {
    "duration": 8,
    "start_time": "2023-01-13T19:34:44.774Z"
   },
   {
    "duration": 11,
    "start_time": "2023-01-13T19:34:47.331Z"
   },
   {
    "duration": 9,
    "start_time": "2023-01-13T19:34:59.403Z"
   },
   {
    "duration": 9,
    "start_time": "2023-01-13T19:35:08.171Z"
   },
   {
    "duration": 9,
    "start_time": "2023-01-13T19:35:27.892Z"
   },
   {
    "duration": 10,
    "start_time": "2023-01-13T19:35:55.595Z"
   },
   {
    "duration": 1191,
    "start_time": "2023-01-13T19:36:08.205Z"
   },
   {
    "duration": 17,
    "start_time": "2023-01-13T19:36:09.398Z"
   },
   {
    "duration": 15,
    "start_time": "2023-01-13T19:36:09.416Z"
   },
   {
    "duration": 10,
    "start_time": "2023-01-13T19:36:09.433Z"
   },
   {
    "duration": 56,
    "start_time": "2023-01-13T19:36:09.445Z"
   },
   {
    "duration": 3,
    "start_time": "2023-01-13T19:36:09.503Z"
   },
   {
    "duration": 10,
    "start_time": "2023-01-13T19:36:09.507Z"
   },
   {
    "duration": 5,
    "start_time": "2023-01-13T19:36:09.518Z"
   },
   {
    "duration": 8,
    "start_time": "2023-01-13T19:36:09.524Z"
   },
   {
    "duration": 5,
    "start_time": "2023-01-13T19:36:09.535Z"
   },
   {
    "duration": 60,
    "start_time": "2023-01-13T19:36:09.541Z"
   },
   {
    "duration": 10,
    "start_time": "2023-01-13T19:36:09.603Z"
   },
   {
    "duration": 5,
    "start_time": "2023-01-13T19:36:09.614Z"
   },
   {
    "duration": 14,
    "start_time": "2023-01-13T19:36:09.620Z"
   },
   {
    "duration": 20,
    "start_time": "2023-01-13T19:36:09.636Z"
   },
   {
    "duration": 18,
    "start_time": "2023-01-13T19:36:09.678Z"
   },
   {
    "duration": 4,
    "start_time": "2023-01-13T19:36:09.697Z"
   },
   {
    "duration": 12,
    "start_time": "2023-01-13T19:36:09.703Z"
   },
   {
    "duration": 5,
    "start_time": "2023-01-13T19:36:09.716Z"
   },
   {
    "duration": 6,
    "start_time": "2023-01-13T19:36:09.722Z"
   },
   {
    "duration": 10,
    "start_time": "2023-01-13T19:36:09.729Z"
   },
   {
    "duration": 47,
    "start_time": "2023-01-13T19:36:09.740Z"
   },
   {
    "duration": 21,
    "start_time": "2023-01-13T19:36:09.788Z"
   },
   {
    "duration": 20,
    "start_time": "2023-01-13T19:36:09.811Z"
   },
   {
    "duration": 50,
    "start_time": "2023-01-13T19:36:09.832Z"
   },
   {
    "duration": 138,
    "start_time": "2023-01-13T19:36:09.883Z"
   },
   {
    "duration": 20,
    "start_time": "2023-01-13T19:36:10.022Z"
   },
   {
    "duration": 205,
    "start_time": "2023-01-13T19:36:10.044Z"
   },
   {
    "duration": 193,
    "start_time": "2023-01-13T19:36:10.251Z"
   },
   {
    "duration": 182,
    "start_time": "2023-01-13T19:36:10.446Z"
   },
   {
    "duration": 178,
    "start_time": "2023-01-13T19:36:10.630Z"
   },
   {
    "duration": 19,
    "start_time": "2023-01-13T19:36:22.966Z"
   },
   {
    "duration": 15,
    "start_time": "2023-01-13T19:36:44.154Z"
   },
   {
    "duration": 5,
    "start_time": "2023-01-13T19:37:15.833Z"
   },
   {
    "duration": 7,
    "start_time": "2023-01-13T19:37:21.215Z"
   },
   {
    "duration": 7,
    "start_time": "2023-01-13T19:37:35.159Z"
   },
   {
    "duration": 10,
    "start_time": "2023-01-13T19:37:48.533Z"
   },
   {
    "duration": 15,
    "start_time": "2023-01-13T19:37:54.540Z"
   },
   {
    "duration": 9,
    "start_time": "2023-01-13T19:39:13.592Z"
   },
   {
    "duration": 9,
    "start_time": "2023-01-13T19:39:18.567Z"
   },
   {
    "duration": 213,
    "start_time": "2023-01-13T20:05:27.439Z"
   },
   {
    "duration": 12,
    "start_time": "2023-01-13T20:06:12.389Z"
   },
   {
    "duration": 243,
    "start_time": "2023-01-13T20:23:01.717Z"
   },
   {
    "duration": 14,
    "start_time": "2023-01-13T20:24:49.030Z"
   },
   {
    "duration": 12,
    "start_time": "2023-01-13T20:26:36.872Z"
   },
   {
    "duration": 209,
    "start_time": "2023-01-13T20:27:23.936Z"
   },
   {
    "duration": 16,
    "start_time": "2023-01-13T20:27:58.091Z"
   },
   {
    "duration": 249,
    "start_time": "2023-01-13T20:28:28.514Z"
   },
   {
    "duration": 266,
    "start_time": "2023-01-13T20:29:01.958Z"
   },
   {
    "duration": 70,
    "start_time": "2023-01-13T20:29:12.000Z"
   },
   {
    "duration": 215,
    "start_time": "2023-01-13T20:29:22.866Z"
   },
   {
    "duration": 231,
    "start_time": "2023-01-13T20:29:41.957Z"
   },
   {
    "duration": 243,
    "start_time": "2023-01-13T20:31:01.632Z"
   },
   {
    "duration": 167,
    "start_time": "2023-01-13T20:32:14.216Z"
   },
   {
    "duration": 179,
    "start_time": "2023-01-13T20:32:27.177Z"
   },
   {
    "duration": 77,
    "start_time": "2023-01-13T20:33:56.332Z"
   },
   {
    "duration": 163,
    "start_time": "2023-01-13T20:34:01.799Z"
   },
   {
    "duration": 165,
    "start_time": "2023-01-13T20:36:49.597Z"
   },
   {
    "duration": 197,
    "start_time": "2023-01-13T20:39:11.147Z"
   },
   {
    "duration": 206,
    "start_time": "2023-01-13T20:39:55.806Z"
   },
   {
    "duration": 12,
    "start_time": "2023-01-13T20:40:48.830Z"
   },
   {
    "duration": 181,
    "start_time": "2023-01-13T20:41:04.128Z"
   },
   {
    "duration": 156,
    "start_time": "2023-01-13T20:41:30.363Z"
   },
   {
    "duration": 210,
    "start_time": "2023-01-13T20:41:35.898Z"
   },
   {
    "duration": 21,
    "start_time": "2023-01-13T20:46:01.707Z"
   },
   {
    "duration": 88,
    "start_time": "2023-01-13T20:46:43.621Z"
   },
   {
    "duration": 72,
    "start_time": "2023-01-13T20:46:54.079Z"
   },
   {
    "duration": 94,
    "start_time": "2023-01-13T20:47:06.841Z"
   },
   {
    "duration": 12,
    "start_time": "2023-01-13T20:47:14.151Z"
   },
   {
    "duration": 9,
    "start_time": "2023-01-13T20:47:18.048Z"
   },
   {
    "duration": 29,
    "start_time": "2023-01-13T20:47:32.222Z"
   },
   {
    "duration": 11,
    "start_time": "2023-01-13T20:47:55.841Z"
   },
   {
    "duration": 1120,
    "start_time": "2023-01-13T20:48:25.092Z"
   },
   {
    "duration": 1180,
    "start_time": "2023-01-13T20:48:36.683Z"
   },
   {
    "duration": 1117,
    "start_time": "2023-01-13T20:49:24.137Z"
   },
   {
    "duration": 1090,
    "start_time": "2023-01-13T20:49:48.063Z"
   },
   {
    "duration": 1164,
    "start_time": "2023-01-13T20:49:56.330Z"
   },
   {
    "duration": 18,
    "start_time": "2023-01-13T20:49:57.496Z"
   },
   {
    "duration": 13,
    "start_time": "2023-01-13T20:49:57.516Z"
   },
   {
    "duration": 9,
    "start_time": "2023-01-13T20:49:57.531Z"
   },
   {
    "duration": 53,
    "start_time": "2023-01-13T20:49:57.542Z"
   },
   {
    "duration": 5,
    "start_time": "2023-01-13T20:49:57.596Z"
   },
   {
    "duration": 11,
    "start_time": "2023-01-13T20:49:57.603Z"
   },
   {
    "duration": 5,
    "start_time": "2023-01-13T20:49:57.615Z"
   },
   {
    "duration": 8,
    "start_time": "2023-01-13T20:49:57.621Z"
   },
   {
    "duration": 4,
    "start_time": "2023-01-13T20:49:57.632Z"
   },
   {
    "duration": 62,
    "start_time": "2023-01-13T20:49:57.638Z"
   },
   {
    "duration": 10,
    "start_time": "2023-01-13T20:49:57.702Z"
   },
   {
    "duration": 7,
    "start_time": "2023-01-13T20:49:57.714Z"
   },
   {
    "duration": 12,
    "start_time": "2023-01-13T20:49:57.723Z"
   },
   {
    "duration": 41,
    "start_time": "2023-01-13T20:49:57.737Z"
   },
   {
    "duration": 17,
    "start_time": "2023-01-13T20:49:57.780Z"
   },
   {
    "duration": 4,
    "start_time": "2023-01-13T20:49:57.799Z"
   },
   {
    "duration": 13,
    "start_time": "2023-01-13T20:49:57.804Z"
   },
   {
    "duration": 8,
    "start_time": "2023-01-13T20:49:57.818Z"
   },
   {
    "duration": 4,
    "start_time": "2023-01-13T20:49:57.827Z"
   },
   {
    "duration": 10,
    "start_time": "2023-01-13T20:49:57.833Z"
   },
   {
    "duration": 50,
    "start_time": "2023-01-13T20:49:57.844Z"
   },
   {
    "duration": 23,
    "start_time": "2023-01-13T20:49:57.895Z"
   },
   {
    "duration": 21,
    "start_time": "2023-01-13T20:49:57.920Z"
   },
   {
    "duration": 41,
    "start_time": "2023-01-13T20:49:57.943Z"
   },
   {
    "duration": 160,
    "start_time": "2023-01-13T20:49:57.986Z"
   },
   {
    "duration": 1302,
    "start_time": "2023-01-13T20:49:58.147Z"
   },
   {
    "duration": 0,
    "start_time": "2023-01-13T20:49:59.451Z"
   },
   {
    "duration": 0,
    "start_time": "2023-01-13T20:49:59.453Z"
   },
   {
    "duration": 0,
    "start_time": "2023-01-13T20:49:59.454Z"
   },
   {
    "duration": 0,
    "start_time": "2023-01-13T20:49:59.456Z"
   },
   {
    "duration": 1150,
    "start_time": "2023-01-13T20:50:03.887Z"
   },
   {
    "duration": 1135,
    "start_time": "2023-01-13T20:50:17.284Z"
   },
   {
    "duration": 188,
    "start_time": "2023-01-13T20:51:02.261Z"
   },
   {
    "duration": 136,
    "start_time": "2023-01-13T20:51:06.953Z"
   },
   {
    "duration": 13,
    "start_time": "2023-01-13T20:51:15.434Z"
   },
   {
    "duration": 8,
    "start_time": "2023-01-13T20:51:31.029Z"
   },
   {
    "duration": 7,
    "start_time": "2023-01-13T20:51:40.133Z"
   },
   {
    "duration": 7,
    "start_time": "2023-01-13T20:51:42.715Z"
   },
   {
    "duration": 13,
    "start_time": "2023-01-13T20:51:48.376Z"
   },
   {
    "duration": 12,
    "start_time": "2023-01-13T20:52:17.776Z"
   },
   {
    "duration": 21,
    "start_time": "2023-01-13T20:52:34.594Z"
   },
   {
    "duration": 17,
    "start_time": "2023-01-13T20:53:17.933Z"
   },
   {
    "duration": 19,
    "start_time": "2023-01-13T20:53:37.640Z"
   },
   {
    "duration": 12,
    "start_time": "2023-01-13T20:53:51.129Z"
   },
   {
    "duration": 13,
    "start_time": "2023-01-13T20:54:16.058Z"
   },
   {
    "duration": 84,
    "start_time": "2023-01-13T20:55:00.002Z"
   },
   {
    "duration": 72,
    "start_time": "2023-01-13T20:55:05.395Z"
   },
   {
    "duration": 97,
    "start_time": "2023-01-13T20:55:10.603Z"
   },
   {
    "duration": 102,
    "start_time": "2023-01-13T20:55:13.217Z"
   },
   {
    "duration": 9,
    "start_time": "2023-01-13T20:55:17.506Z"
   },
   {
    "duration": 20,
    "start_time": "2023-01-13T20:56:30.279Z"
   },
   {
    "duration": 21,
    "start_time": "2023-01-13T20:57:06.343Z"
   },
   {
    "duration": 8,
    "start_time": "2023-01-13T20:57:35.311Z"
   },
   {
    "duration": 10,
    "start_time": "2023-01-13T21:05:59.650Z"
   },
   {
    "duration": 12,
    "start_time": "2023-01-13T21:06:03.297Z"
   },
   {
    "duration": 255,
    "start_time": "2023-01-13T21:07:24.887Z"
   },
   {
    "duration": 23,
    "start_time": "2023-01-13T21:09:07.236Z"
   },
   {
    "duration": 15,
    "start_time": "2023-01-13T21:09:22.434Z"
   },
   {
    "duration": 189,
    "start_time": "2023-01-13T21:12:23.151Z"
   },
   {
    "duration": 10,
    "start_time": "2023-01-13T21:28:14.538Z"
   },
   {
    "duration": 3,
    "start_time": "2023-01-13T21:28:28.811Z"
   },
   {
    "duration": 9,
    "start_time": "2023-01-13T21:28:32.042Z"
   },
   {
    "duration": 10,
    "start_time": "2023-01-13T21:28:56.395Z"
   },
   {
    "duration": 10,
    "start_time": "2023-01-13T21:29:18.799Z"
   },
   {
    "duration": 8,
    "start_time": "2023-01-13T21:29:46.846Z"
   },
   {
    "duration": 15,
    "start_time": "2023-01-13T21:29:57.973Z"
   },
   {
    "duration": 8,
    "start_time": "2023-01-13T21:30:05.205Z"
   },
   {
    "duration": 12,
    "start_time": "2023-01-13T21:30:37.138Z"
   },
   {
    "duration": 12,
    "start_time": "2023-01-13T21:30:49.636Z"
   },
   {
    "duration": 14,
    "start_time": "2023-01-13T21:31:03.179Z"
   },
   {
    "duration": 14,
    "start_time": "2023-01-13T21:31:05.894Z"
   },
   {
    "duration": 13,
    "start_time": "2023-01-13T21:31:08.381Z"
   },
   {
    "duration": 12,
    "start_time": "2023-01-13T21:31:17.333Z"
   },
   {
    "duration": 16,
    "start_time": "2023-01-13T21:32:17.334Z"
   },
   {
    "duration": 20,
    "start_time": "2023-01-13T21:33:15.005Z"
   },
   {
    "duration": 79,
    "start_time": "2023-01-13T21:33:24.031Z"
   },
   {
    "duration": 69,
    "start_time": "2023-01-13T21:33:31.655Z"
   },
   {
    "duration": 16,
    "start_time": "2023-01-13T21:33:43.075Z"
   },
   {
    "duration": 10,
    "start_time": "2023-01-13T21:36:15.393Z"
   },
   {
    "duration": 9,
    "start_time": "2023-01-13T21:36:40.086Z"
   },
   {
    "duration": 9,
    "start_time": "2023-01-13T21:41:05.886Z"
   },
   {
    "duration": 8,
    "start_time": "2023-01-13T21:41:44.331Z"
   },
   {
    "duration": 8,
    "start_time": "2023-01-13T21:42:13.331Z"
   },
   {
    "duration": 11,
    "start_time": "2023-01-13T21:43:00.915Z"
   },
   {
    "duration": 12,
    "start_time": "2023-01-13T21:43:31.581Z"
   },
   {
    "duration": 286,
    "start_time": "2023-01-13T21:43:35.945Z"
   },
   {
    "duration": 14,
    "start_time": "2023-01-13T21:43:50.917Z"
   },
   {
    "duration": 14,
    "start_time": "2023-01-13T21:44:36.679Z"
   },
   {
    "duration": 11,
    "start_time": "2023-01-13T21:44:57.209Z"
   },
   {
    "duration": 12,
    "start_time": "2023-01-13T21:45:13.031Z"
   },
   {
    "duration": 14,
    "start_time": "2023-01-13T21:45:59.358Z"
   },
   {
    "duration": 12,
    "start_time": "2023-01-13T21:46:06.581Z"
   },
   {
    "duration": 47,
    "start_time": "2023-01-14T08:46:50.665Z"
   },
   {
    "duration": 1613,
    "start_time": "2023-01-14T08:47:00.328Z"
   },
   {
    "duration": 18,
    "start_time": "2023-01-14T08:47:01.943Z"
   },
   {
    "duration": 34,
    "start_time": "2023-01-14T08:47:01.962Z"
   },
   {
    "duration": 54,
    "start_time": "2023-01-14T08:47:01.999Z"
   },
   {
    "duration": 69,
    "start_time": "2023-01-14T08:47:02.055Z"
   },
   {
    "duration": 4,
    "start_time": "2023-01-14T08:47:02.125Z"
   },
   {
    "duration": 26,
    "start_time": "2023-01-14T08:47:02.130Z"
   },
   {
    "duration": 40,
    "start_time": "2023-01-14T08:47:02.158Z"
   },
   {
    "duration": 16,
    "start_time": "2023-01-14T08:47:02.199Z"
   },
   {
    "duration": 5,
    "start_time": "2023-01-14T08:47:02.217Z"
   },
   {
    "duration": 41,
    "start_time": "2023-01-14T08:47:02.224Z"
   },
   {
    "duration": 9,
    "start_time": "2023-01-14T08:47:02.267Z"
   },
   {
    "duration": 8,
    "start_time": "2023-01-14T08:47:02.277Z"
   },
   {
    "duration": 14,
    "start_time": "2023-01-14T08:47:02.286Z"
   },
   {
    "duration": 30,
    "start_time": "2023-01-14T08:47:02.301Z"
   },
   {
    "duration": 16,
    "start_time": "2023-01-14T08:47:02.333Z"
   },
   {
    "duration": 4,
    "start_time": "2023-01-14T08:47:02.350Z"
   },
   {
    "duration": 16,
    "start_time": "2023-01-14T08:47:02.355Z"
   },
   {
    "duration": 6,
    "start_time": "2023-01-14T08:47:02.373Z"
   },
   {
    "duration": 11,
    "start_time": "2023-01-14T08:47:02.380Z"
   },
   {
    "duration": 28,
    "start_time": "2023-01-14T08:47:02.392Z"
   },
   {
    "duration": 26,
    "start_time": "2023-01-14T08:47:02.421Z"
   },
   {
    "duration": 22,
    "start_time": "2023-01-14T08:47:02.449Z"
   },
   {
    "duration": 45,
    "start_time": "2023-01-14T08:47:02.473Z"
   },
   {
    "duration": 21,
    "start_time": "2023-01-14T08:47:02.520Z"
   },
   {
    "duration": 201,
    "start_time": "2023-01-14T08:47:02.542Z"
   },
   {
    "duration": 12,
    "start_time": "2023-01-14T08:47:02.744Z"
   },
   {
    "duration": 200,
    "start_time": "2023-01-14T08:47:02.760Z"
   },
   {
    "duration": 204,
    "start_time": "2023-01-14T08:47:02.961Z"
   },
   {
    "duration": 191,
    "start_time": "2023-01-14T08:47:03.167Z"
   },
   {
    "duration": 181,
    "start_time": "2023-01-14T08:47:03.360Z"
   },
   {
    "duration": 57,
    "start_time": "2023-01-14T08:47:47.848Z"
   },
   {
    "duration": 8,
    "start_time": "2023-01-14T08:47:56.690Z"
   },
   {
    "duration": 21,
    "start_time": "2023-01-14T09:04:40.880Z"
   },
   {
    "duration": 12,
    "start_time": "2023-01-14T09:04:45.699Z"
   },
   {
    "duration": 179,
    "start_time": "2023-01-14T09:09:25.212Z"
   },
   {
    "duration": 361,
    "start_time": "2023-01-14T10:02:36.944Z"
   },
   {
    "duration": 136,
    "start_time": "2023-01-14T10:02:38.770Z"
   },
   {
    "duration": 9,
    "start_time": "2023-01-14T10:02:47.698Z"
   },
   {
    "duration": 8,
    "start_time": "2023-01-14T10:02:51.532Z"
   },
   {
    "duration": 29,
    "start_time": "2023-01-14T10:03:25.495Z"
   },
   {
    "duration": 31,
    "start_time": "2023-01-14T10:03:30.203Z"
   },
   {
    "duration": 31,
    "start_time": "2023-01-14T10:03:35.981Z"
   },
   {
    "duration": 23,
    "start_time": "2023-01-14T10:03:41.572Z"
   },
   {
    "duration": 243,
    "start_time": "2023-01-14T10:07:42.766Z"
   },
   {
    "duration": 188,
    "start_time": "2023-01-14T10:07:47.998Z"
   },
   {
    "duration": 164,
    "start_time": "2023-01-14T10:07:53.732Z"
   },
   {
    "duration": 168,
    "start_time": "2023-01-14T10:07:56.574Z"
   }
  ],
  "colab": {
   "provenance": []
  },
  "kernelspec": {
   "display_name": "Python 3 (ipykernel)",
   "language": "python",
   "name": "python3"
  },
  "language_info": {
   "codemirror_mode": {
    "name": "ipython",
    "version": 3
   },
   "file_extension": ".py",
   "mimetype": "text/x-python",
   "name": "python",
   "nbconvert_exporter": "python",
   "pygments_lexer": "ipython3",
   "version": "3.9.13"
  },
  "toc": {
   "base_numbering": 1,
   "nav_menu": {},
   "number_sections": true,
   "sideBar": true,
   "skip_h1_title": true,
   "title_cell": "Table of Contents",
   "title_sidebar": "Contents",
   "toc_cell": false,
   "toc_position": {
    "height": "calc(100% - 180px)",
    "left": "10px",
    "top": "150px",
    "width": "353px"
   },
   "toc_section_display": true,
   "toc_window_display": true
  }
 },
 "nbformat": 4,
 "nbformat_minor": 5
}
